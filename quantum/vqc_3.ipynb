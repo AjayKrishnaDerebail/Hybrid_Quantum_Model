{
 "cells": [
  {
   "cell_type": "code",
   "execution_count": 3,
   "id": "6b7008e9-138b-41ab-aa00-eaf25791644a",
   "metadata": {
    "tags": []
   },
   "outputs": [
    {
     "name": "stderr",
     "output_type": "stream",
     "text": [
      "ibmqfactory.load_account:WARNING:2023-04-13 13:40:07,378: Credentials are already in use. The existing account in the session will be replaced.\n"
     ]
    }
   ],
   "source": [
    "import numpy as np\n",
    "\n",
    "# Importing standard Qiskit libraries\n",
    "from qiskit import QuantumCircuit, transpile, Aer, IBMQ\n",
    "from qiskit.tools.jupyter import *\n",
    "from qiskit.visualization import *\n",
    "from ibm_quantum_widgets import *\n",
    "from qiskit.providers.aer import QasmSimulator\n",
    "\n",
    "# Loading your IBM Quantum account(s)\n",
    "provider = IBMQ.load_account()"
   ]
  },
  {
   "cell_type": "code",
   "execution_count": 5,
   "id": "88a22d20-33f9-4993-837d-03c6d5125ae4",
   "metadata": {
    "tags": []
   },
   "outputs": [],
   "source": [
    "import matplotlib.pyplot as plt\n",
    "import numpy as np\n",
    "import pandas as pd"
   ]
  },
  {
   "cell_type": "code",
   "execution_count": 7,
   "id": "8538a76e-9e05-4bce-95f0-ab0ffb1d707a",
   "metadata": {
    "tags": []
   },
   "outputs": [],
   "source": [
    "df = pd.read_csv('sentiment_tweets - Copy.csv')\n"
   ]
  },
  {
   "cell_type": "code",
   "execution_count": 8,
   "id": "ce2342e4-c7d7-4a8f-ae4d-b7034e8aae6c",
   "metadata": {
    "tags": []
   },
   "outputs": [
    {
     "name": "stdout",
     "output_type": "stream",
     "text": [
      "<class 'pandas.core.frame.DataFrame'>\n",
      "RangeIndex: 10314 entries, 0 to 10313\n",
      "Data columns (total 6 columns):\n",
      " #   Column          Non-Null Count  Dtype  \n",
      "---  ------          --------------  -----  \n",
      " 0   index           10314 non-null  int64  \n",
      " 1   Tweet_Content   10314 non-null  object \n",
      " 2   negative_score  10314 non-null  float64\n",
      " 3   positive_score  10314 non-null  float64\n",
      " 4   neutral_score   10314 non-null  float64\n",
      " 5   label           10314 non-null  int64  \n",
      "dtypes: float64(3), int64(2), object(1)\n",
      "memory usage: 483.6+ KB\n"
     ]
    }
   ],
   "source": [
    "df.info()"
   ]
  },
  {
   "cell_type": "code",
   "execution_count": 9,
   "id": "be1d066b-54bb-4467-9614-a30272a235e6",
   "metadata": {
    "tags": []
   },
   "outputs": [
    {
     "data": {
      "text/html": [
       "<div>\n",
       "<style scoped>\n",
       "    .dataframe tbody tr th:only-of-type {\n",
       "        vertical-align: middle;\n",
       "    }\n",
       "\n",
       "    .dataframe tbody tr th {\n",
       "        vertical-align: top;\n",
       "    }\n",
       "\n",
       "    .dataframe thead th {\n",
       "        text-align: right;\n",
       "    }\n",
       "</style>\n",
       "<table border=\"1\" class=\"dataframe\">\n",
       "  <thead>\n",
       "    <tr style=\"text-align: right;\">\n",
       "      <th></th>\n",
       "      <th>index</th>\n",
       "      <th>Tweet_Content</th>\n",
       "      <th>negative_score</th>\n",
       "      <th>positive_score</th>\n",
       "      <th>neutral_score</th>\n",
       "      <th>label</th>\n",
       "    </tr>\n",
       "  </thead>\n",
       "  <tbody>\n",
       "    <tr>\n",
       "      <th>0</th>\n",
       "      <td>106</td>\n",
       "      <td>just had a real good moment. i missssssssss hi...</td>\n",
       "      <td>0.0</td>\n",
       "      <td>0.225</td>\n",
       "      <td>0.775</td>\n",
       "      <td>0</td>\n",
       "    </tr>\n",
       "    <tr>\n",
       "      <th>1</th>\n",
       "      <td>217</td>\n",
       "      <td>is reading manga  http://plurk.com/p/mzp1e</td>\n",
       "      <td>0.0</td>\n",
       "      <td>0.000</td>\n",
       "      <td>1.000</td>\n",
       "      <td>0</td>\n",
       "    </tr>\n",
       "    <tr>\n",
       "      <th>2</th>\n",
       "      <td>220</td>\n",
       "      <td>@comeagainjen http://twitpic.com/2y2lx - http:...</td>\n",
       "      <td>0.0</td>\n",
       "      <td>0.000</td>\n",
       "      <td>1.000</td>\n",
       "      <td>0</td>\n",
       "    </tr>\n",
       "    <tr>\n",
       "      <th>3</th>\n",
       "      <td>288</td>\n",
       "      <td>@lapcat Need to send 'em to my accountant tomo...</td>\n",
       "      <td>0.0</td>\n",
       "      <td>0.121</td>\n",
       "      <td>0.879</td>\n",
       "      <td>0</td>\n",
       "    </tr>\n",
       "    <tr>\n",
       "      <th>4</th>\n",
       "      <td>540</td>\n",
       "      <td>ADD ME ON MYSPACE!!!  myspace.com/LookThunder</td>\n",
       "      <td>0.0</td>\n",
       "      <td>0.000</td>\n",
       "      <td>1.000</td>\n",
       "      <td>0</td>\n",
       "    </tr>\n",
       "  </tbody>\n",
       "</table>\n",
       "</div>"
      ],
      "text/plain": [
       "   index                                      Tweet_Content  negative_score  \\\n",
       "0    106  just had a real good moment. i missssssssss hi...             0.0   \n",
       "1    217         is reading manga  http://plurk.com/p/mzp1e             0.0   \n",
       "2    220  @comeagainjen http://twitpic.com/2y2lx - http:...             0.0   \n",
       "3    288  @lapcat Need to send 'em to my accountant tomo...             0.0   \n",
       "4    540      ADD ME ON MYSPACE!!!  myspace.com/LookThunder             0.0   \n",
       "\n",
       "   positive_score  neutral_score  label  \n",
       "0           0.225          0.775      0  \n",
       "1           0.000          1.000      0  \n",
       "2           0.000          1.000      0  \n",
       "3           0.121          0.879      0  \n",
       "4           0.000          1.000      0  "
      ]
     },
     "execution_count": 9,
     "metadata": {},
     "output_type": "execute_result"
    }
   ],
   "source": [
    "df.head()"
   ]
  },
  {
   "cell_type": "code",
   "execution_count": 10,
   "id": "21db3a85-ca99-48fc-8de9-b0aebd46ff40",
   "metadata": {
    "tags": []
   },
   "outputs": [
    {
     "name": "stdout",
     "output_type": "stream",
     "text": [
      "       negative_score  positive_score  neutral_score\n",
      "0               0.000           0.225          0.775\n",
      "1               0.000           0.000          1.000\n",
      "2               0.000           0.000          1.000\n",
      "3               0.000           0.121          0.879\n",
      "4               0.000           0.000          1.000\n",
      "...               ...             ...            ...\n",
      "10309           0.106           0.128          0.766\n",
      "10310           0.167           0.113          0.721\n",
      "10311           0.469           0.131          0.400\n",
      "10312           0.229           0.338          0.433\n",
      "10313           0.000           0.000          1.000\n",
      "\n",
      "[10314 rows x 3 columns]\n",
      "<class 'pandas.core.frame.DataFrame'>\n",
      "RangeIndex: 10314 entries, 0 to 10313\n",
      "Data columns (total 3 columns):\n",
      " #   Column          Non-Null Count  Dtype  \n",
      "---  ------          --------------  -----  \n",
      " 0   negative_score  10314 non-null  float64\n",
      " 1   positive_score  10314 non-null  float64\n",
      " 2   neutral_score   10314 non-null  float64\n",
      "dtypes: float64(3)\n",
      "memory usage: 241.9 KB\n",
      "None\n"
     ]
    }
   ],
   "source": [
    "features = df.iloc[:,2:5]\n",
    "# features = features.iloc[1:]\n",
    "\n",
    "print(features)\n",
    "print(features.info())"
   ]
  },
  {
   "cell_type": "code",
   "execution_count": 12,
   "id": "25a046d1-6762-4607-bc6f-bc151a3b059d",
   "metadata": {
    "tags": []
   },
   "outputs": [
    {
     "name": "stdout",
     "output_type": "stream",
     "text": [
      "0        0\n",
      "1        0\n",
      "2        0\n",
      "3        0\n",
      "4        0\n",
      "        ..\n",
      "10309    1\n",
      "10310    1\n",
      "10311    1\n",
      "10312    1\n",
      "10313    1\n",
      "Name: label, Length: 10314, dtype: int64\n"
     ]
    }
   ],
   "source": [
    "labels = df['label']\n",
    "print(labels)"
   ]
  },
  {
   "cell_type": "code",
   "execution_count": 31,
   "id": "7d4e8be3-b0a7-4d12-9eb4-c7e9336c1dc9",
   "metadata": {
    "tags": []
   },
   "outputs": [],
   "source": [
    "# from sklearn.preprocessing import MinMaxScaler\n",
    "\n",
    "# features = MinMaxScaler().fit_transform(features)"
   ]
  },
  {
   "cell_type": "code",
   "execution_count": 13,
   "id": "3fba958f-29aa-40bf-9e3e-b8c2ece20bd4",
   "metadata": {
    "tags": []
   },
   "outputs": [
    {
     "data": {
      "image/png": "[encoded data removed]",
      "text/plain": [
       "<Figure size 1541.66x284.278 with 1 Axes>"
      ]
     },
     "execution_count": 13,
     "metadata": {},
     "output_type": "execute_result"
    }
   ],
   "source": [
    "\n",
    "from qiskit.circuit.library import ZZFeatureMap\n",
    "\n",
    "num_features = features.shape[1]\n",
    "\n",
    "feature_map = ZZFeatureMap(feature_dimension=num_features, reps=1)\n",
    "feature_map.decompose().draw(output=\"mpl\", fold=20)"
   ]
  },
  {
   "cell_type": "code",
   "execution_count": 14,
   "id": "7b663335-d82a-4381-aafc-ed14e159c773",
   "metadata": {
    "tags": []
   },
   "outputs": [
    {
     "data": {
      "image/png": "[encoded data removed]",
      "text/plain": [
       "<Figure size 956.385x284.278 with 1 Axes>"
      ]
     },
     "execution_count": 14,
     "metadata": {},
     "output_type": "execute_result"
    }
   ],
   "source": [
    "from qiskit.circuit.library import RealAmplitudes\n",
    "\n",
    "ansatz = RealAmplitudes(num_qubits=num_features, reps=3)\n",
    "ansatz.decompose().draw(output=\"mpl\", fold=20)"
   ]
  },
  {
   "cell_type": "code",
   "execution_count": 16,
   "id": "8f3beb16-87db-440e-9010-bf6358b3587d",
   "metadata": {
    "tags": []
   },
   "outputs": [],
   "source": [
    "from qiskit.algorithms.optimizers import COBYLA\n",
    "\n",
    "optimizer = COBYLA(maxiter=100)"
   ]
  },
  {
   "cell_type": "code",
   "execution_count": 17,
   "id": "aa18b682-778e-4d9b-b9a8-35b2a5f2b4e7",
   "metadata": {
    "tags": []
   },
   "outputs": [],
   "source": [
    "from sklearn.model_selection import train_test_split\n",
    "from qiskit.utils import algorithm_globals\n",
    "\n",
    "algorithm_globals.random_seed = 123\n",
    "train_features, test_features, train_labels, test_labels = train_test_split(\n",
    "    features, labels, train_size=0.8, random_state=algorithm_globals.random_seed\n",
    ")\n"
   ]
  },
  {
   "cell_type": "code",
   "execution_count": 18,
   "id": "b01e67fc-7bc5-4f48-a839-7a8d15caf601",
   "metadata": {
    "tags": []
   },
   "outputs": [
    {
     "name": "stdout",
     "output_type": "stream",
     "text": [
      "<class 'pandas.core.frame.DataFrame'>\n",
      "<class 'numpy.ndarray'>\n"
     ]
    }
   ],
   "source": [
    "print(type(train_features))\n",
    "# print(type(train_labels))\n",
    "train_labels = np.array(train_labels)\n",
    "print(type(train_labels))"
   ]
  },
  {
   "cell_type": "code",
   "execution_count": 20,
   "id": "21eab7e6-c04f-4ac6-ad87-3baeea8216f5",
   "metadata": {
    "tags": []
   },
   "outputs": [
    {
     "name": "stdout",
     "output_type": "stream",
     "text": [
      "      negative_score  positive_score  neutral_score\n",
      "2595           0.000           0.000          1.000\n",
      "2743           0.000           0.336          0.664\n",
      "4986           0.000           0.000          1.000\n",
      "9913           0.142           0.042          0.816\n",
      "8370           0.393           0.000          0.607\n",
      "...              ...             ...            ...\n",
      "9785           0.506           0.000          0.494\n",
      "7763           0.000           0.238          0.762\n",
      "5218           0.000           0.000          1.000\n",
      "1346           0.000           0.000          1.000\n",
      "3582           0.000           0.143          0.857\n",
      "\n",
      "[8251 rows x 3 columns]\n",
      "[0 0 0 ... 0 0 0]\n"
     ]
    }
   ],
   "source": [
    "print(train_features)\n",
    "print(train_labels)"
   ]
  },
  {
   "cell_type": "code",
   "execution_count": 21,
   "id": "0aa7bc40-05c7-42e4-8976-2548d883cb8b",
   "metadata": {
    "tags": []
   },
   "outputs": [
    {
     "data": {
      "image/png": "[encoded data removed]",
      "text/plain": [
       "<Figure size 1200x600 with 1 Axes>"
      ]
     },
     "metadata": {},
     "output_type": "display_data"
    },
    {
     "name": "stdout",
     "output_type": "stream",
     "text": [
      "Training time: 4544 seconds\n",
      "Quantum VQC on the training dataset: 0.86\n",
      "Quantum VQC on the test dataset:     0.86\n"
     ]
    }
   ],
   "source": [
    "from matplotlib import pyplot as plt\n",
    "from IPython.display import clear_output\n",
    "from qiskit.primitives import Sampler\n",
    " \n",
    "sampler = Sampler()\n",
    " \n",
    "import time\n",
    "from qiskit_machine_learning.algorithms.classifiers import VQC\n",
    " \n",
    "objective_func_vals = []\n",
    "plt.rcParams[\"figure.figsize\"] = (12, 6)\n",
    "\n",
    "def callback_graph(weights, obj_func_eval):\n",
    "\n",
    "    clear_output(wait=True)\n",
    "    objective_func_vals.append(obj_func_eval)\n",
    "\n",
    "    plt.title(\"Objective function value against iteration\")\n",
    "    plt.xlabel(\"Iteration\")\n",
    "    plt.ylabel(\"Objective function value\")\n",
    "    plt.plot(range(len(objective_func_vals)), objective_func_vals)\n",
    "    plt.show()\n",
    "\n",
    "\n",
    "sampler = Sampler()\n",
    "\n",
    "vqc = VQC(\n",
    "    sampler=sampler,\n",
    "    feature_map=feature_map,\n",
    "    ansatz=ansatz,\n",
    "    optimizer=optimizer,\n",
    "    callback=callback_graph,\n",
    ")\n",
    "# clear objective value history\n",
    "objective_func_vals = []\n",
    "\n",
    "start = time.time()\n",
    "vqc.fit(train_features, train_labels)\n",
    "elapsed = time.time() - start\n",
    "print(f\"Training time: {round(elapsed)} seconds\")\n",
    "train_score_q4 = vqc.score(train_features, train_labels)\n",
    "test_score_q4 = vqc.score(test_features, test_labels)\n",
    "\n",
    "\n",
    "print(f\"Quantum VQC on the training dataset: {train_score_q4:.2f}\")\n",
    "print(f\"Quantum VQC on the test dataset:     {test_score_q4:.2f}\")"
   ]
  },
  {
   "cell_type": "code",
   "execution_count": 55,
   "id": "c9d2356b-6bda-487b-9ab7-ca9dedd7a995",
   "metadata": {
    "tags": []
   },
   "outputs": [
    {
     "name": "stdout",
     "output_type": "stream",
     "text": [
      "Quantum VQC on the training dataset: 0.86\n",
      "Quantum VQC on the test dataset:     0.86\n"
     ]
    }
   ],
   "source": [
    "train_score_q4 = vqc.score(train_features, train_labels)\n",
    "test_score_q4 = vqc.score(test_features, test_labels)\n",
    "\n",
    "print(f\"Quantum VQC on the training dataset: {train_score_q4:.2f}\")\n",
    "print(f\"Quantum VQC on the test dataset:     {test_score_q4:.2f}\")"
   ]
  },
  {
   "cell_type": "code",
   "execution_count": null,
   "id": "4b7897a0-3a6d-4d02-ac56-74e19a71f2de",
   "metadata": {},
   "outputs": [],
   "source": []
  }
 ],
 "metadata": {
  "kernelspec": {
   "display_name": "Python 3 (ipykernel)",
   "language": "python",
   "name": "python3"
  },
  "language_info": {
   "codemirror_mode": {
    "name": "ipython",
    "version": 3
   },
   "file_extension": ".py",
   "mimetype": "text/x-python",
   "name": "python",
   "nbconvert_exporter": "python",
   "pygments_lexer": "ipython3",
   "version": "3.10.4"
  },
  "widgets": {
   "application/vnd.jupyter.widget-state+json": {
    "state": {
     "133ac278c457425aae9f24bc200959dd": {
      "model_module": "@jupyter-widgets/base",
      "model_module_version": "2.0.0",
      "model_name": "LayoutModel",
      "state": {
       "width": "70px"
      }
     },
     "16edb848c4154b5a8f81fb5ab840a25c": {
      "model_module": "@jupyter-widgets/base",
      "model_module_version": "2.0.0",
      "model_name": "LayoutModel",
      "state": {
       "margin": "0px 0px 10px 0px"
      }
     },
     "1c0f39a386054664be6c2318befcddda": {
      "model_module": "@jupyter-widgets/controls",
      "model_module_version": "2.0.0",
      "model_name": "HTMLModel",
      "state": {
       "layout": "IPY_MODEL_16edb848c4154b5a8f81fb5ab840a25c",
       "style": "IPY_MODEL_b35500164c004fee8f0864fc401a9a04",
       "value": "<p style='font-family: IBM Plex Sans, Arial, Helvetica, sans-serif; font-size: 20px; font-weight: medium;'>Circuit Properties</p>"
      }
     },
     "2edec3a0a68c4e728d8b9e7bcadb009c": {
      "model_module": "@jupyter-widgets/base",
      "model_module_version": "2.0.0",
      "model_name": "LayoutModel",
      "state": {
       "margin": "0px 0px 0px 37px",
       "width": "600px"
      }
     },
     "300c792e8b2a4c348f9dabaff76df532": {
      "model_module": "@jupyter-widgets/base",
      "model_module_version": "2.0.0",
      "model_name": "LayoutModel",
      "state": {
       "grid_template_areas": "\n                                       \". . . . right \"\n                                        ",
       "grid_template_columns": "20% 20% 20% 20% 20%",
       "width": "100%"
      }
     },
     "4c9c130d2b494fc6b5367531b19360e8": {
      "model_module": "@jupyter-widgets/controls",
      "model_module_version": "2.0.0",
      "model_name": "ButtonModel",
      "state": {
       "button_style": "primary",
       "description": "Clear",
       "layout": "IPY_MODEL_4d0782d7b798407a949dfafef7751968",
       "style": "IPY_MODEL_f6878a27d7774eef9494c3b3d2fe5f27",
       "tooltip": null
      }
     },
     "4d0782d7b798407a949dfafef7751968": {
      "model_module": "@jupyter-widgets/base",
      "model_module_version": "2.0.0",
      "model_name": "LayoutModel",
      "state": {
       "grid_area": "right",
       "padding": "0px 0px 0px 0px",
       "width": "70px"
      }
     },
     "50227625eee6482785470d8ccaf0543b": {
      "model_module": "@jupyter-widgets/controls",
      "model_module_version": "2.0.0",
      "model_name": "HTMLStyleModel",
      "state": {
       "description_width": "",
       "font_size": null,
       "text_color": null
      }
     },
     "574a3524a04d4031bf326459c8415e6a": {
      "model_module": "@jupyter-widgets/controls",
      "model_module_version": "2.0.0",
      "model_name": "HTMLStyleModel",
      "state": {
       "description_width": "",
       "font_size": null,
       "text_color": null
      }
     },
     "5a389d203ba542f48263f9a770aa44f4": {
      "model_module": "@jupyter-widgets/controls",
      "model_module_version": "2.0.0",
      "model_name": "HTMLModel",
      "state": {
       "layout": "IPY_MODEL_ffe2fee6b20649bb93a113c1c57d0fc4",
       "style": "IPY_MODEL_50227625eee6482785470d8ccaf0543b",
       "value": "<h5>Status</h5>"
      }
     },
     "73c38c0b171d41ae911d573dbd767cfe": {
      "model_module": "@jupyter-widgets/controls",
      "model_module_version": "2.0.0",
      "model_name": "HTMLStyleModel",
      "state": {
       "description_width": "",
       "font_size": null,
       "text_color": null
      }
     },
     "82cea5298a39493daefe487f739104f2": {
      "model_module": "@jupyter-widgets/base",
      "model_module_version": "2.0.0",
      "model_name": "LayoutModel",
      "state": {
       "width": "190px"
      }
     },
     "b35500164c004fee8f0864fc401a9a04": {
      "model_module": "@jupyter-widgets/controls",
      "model_module_version": "2.0.0",
      "model_name": "HTMLStyleModel",
      "state": {
       "description_width": "",
       "font_size": null,
       "text_color": null
      }
     },
     "ba50ca66495148d8b6be5bff9228f813": {
      "model_module": "@jupyter-widgets/controls",
      "model_module_version": "2.0.0",
      "model_name": "HTMLModel",
      "state": {
       "layout": "IPY_MODEL_e33574f7509a40f3a534655dfcc6ac24",
       "style": "IPY_MODEL_fc9971f5a2034fa794a272539e153120",
       "value": "<h5>Backend</h5>"
      }
     },
     "bcb6d1d5fd42453eb5ad712a718cb634": {
      "model_module": "@jupyter-widgets/controls",
      "model_module_version": "2.0.0",
      "model_name": "HTMLModel",
      "state": {
       "layout": "IPY_MODEL_133ac278c457425aae9f24bc200959dd",
       "style": "IPY_MODEL_73c38c0b171d41ae911d573dbd767cfe",
       "value": "<h5>Queue</h5>"
      }
     },
     "d454f54ade94434aa14e55efbfc1693c": {
      "model_module": "@jupyter-widgets/controls",
      "model_module_version": "2.0.0",
      "model_name": "HTMLModel",
      "state": {
       "layout": "IPY_MODEL_e7e35481da454361ac92e69f59bd5ea2",
       "style": "IPY_MODEL_f665b27bc5c74bf2b96a704e0bee105f",
       "value": "<h5>Message</h5>"
      }
     },
     "dcae3bcace784cf4a48de5133c1b677d": {
      "model_module": "@jupyter-widgets/controls",
      "model_module_version": "2.0.0",
      "model_name": "GridBoxModel",
      "state": {
       "children": [
        "IPY_MODEL_4c9c130d2b494fc6b5367531b19360e8"
       ],
       "layout": "IPY_MODEL_300c792e8b2a4c348f9dabaff76df532"
      }
     },
     "e33574f7509a40f3a534655dfcc6ac24": {
      "model_module": "@jupyter-widgets/base",
      "model_module_version": "2.0.0",
      "model_name": "LayoutModel",
      "state": {
       "width": "145px"
      }
     },
     "e7e35481da454361ac92e69f59bd5ea2": {
      "model_module": "@jupyter-widgets/base",
      "model_module_version": "2.0.0",
      "model_name": "LayoutModel",
      "state": {}
     },
     "f665b27bc5c74bf2b96a704e0bee105f": {
      "model_module": "@jupyter-widgets/controls",
      "model_module_version": "2.0.0",
      "model_name": "HTMLStyleModel",
      "state": {
       "description_width": "",
       "font_size": null,
       "text_color": null
      }
     },
     "f6878a27d7774eef9494c3b3d2fe5f27": {
      "model_module": "@jupyter-widgets/controls",
      "model_module_version": "2.0.0",
      "model_name": "ButtonStyleModel",
      "state": {
       "font_family": null,
       "font_size": null,
       "font_style": null,
       "font_variant": null,
       "font_weight": null,
       "text_color": null,
       "text_decoration": null
      }
     },
     "f8fd97de457045c9a4fbb4652df5247f": {
      "model_module": "@jupyter-widgets/controls",
      "model_module_version": "2.0.0",
      "model_name": "HTMLModel",
      "state": {
       "layout": "IPY_MODEL_82cea5298a39493daefe487f739104f2",
       "style": "IPY_MODEL_574a3524a04d4031bf326459c8415e6a",
       "value": "<h5>Job ID</h5>"
      }
     },
     "fb8a478ba4c14d66a1ea53f3b7ba25c7": {
      "model_module": "@jupyter-widgets/controls",
      "model_module_version": "2.0.0",
      "model_name": "HBoxModel",
      "state": {
       "children": [
        "IPY_MODEL_f8fd97de457045c9a4fbb4652df5247f",
        "IPY_MODEL_ba50ca66495148d8b6be5bff9228f813",
        "IPY_MODEL_5a389d203ba542f48263f9a770aa44f4",
        "IPY_MODEL_bcb6d1d5fd42453eb5ad712a718cb634",
        "IPY_MODEL_d454f54ade94434aa14e55efbfc1693c"
       ],
       "layout": "IPY_MODEL_2edec3a0a68c4e728d8b9e7bcadb009c"
      }
     },
     "fc9971f5a2034fa794a272539e153120": {
      "model_module": "@jupyter-widgets/controls",
      "model_module_version": "2.0.0",
      "model_name": "HTMLStyleModel",
      "state": {
       "description_width": "",
       "font_size": null,
       "text_color": null
      }
     },
     "ffe2fee6b20649bb93a113c1c57d0fc4": {
      "model_module": "@jupyter-widgets/base",
      "model_module_version": "2.0.0",
      "model_name": "LayoutModel",
      "state": {
       "width": "95px"
      }
     }
    },
    "version_major": 2,
    "version_minor": 0
   }
  }
 },
 "nbformat": 4,
 "nbformat_minor": 5
}
