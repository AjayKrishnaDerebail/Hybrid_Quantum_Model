{
 "cells": [
  {
   "cell_type": "code",
   "execution_count": 3,
   "id": "6b7008e9-138b-41ab-aa00-eaf25791644a",
   "metadata": {
    "tags": []
   },
   "outputs": [
    {
     "name": "stderr",
     "output_type": "stream",
     "text": [
      "/tmp/ipykernel_146/1994989634.py:11: DeprecationWarning: The qiskit.IBMQ entrypoint and the qiskit-ibmq-provider package (accessible from 'qiskit.providers.ibmq`) are deprecated and will be removed in a future release. Instead you should use the qiskit-ibm-provider package which is accessible from 'qiskit_ibm_provider'. You can install it with 'pip install qiskit_ibm_provider'. Just replace 'qiskit.IBMQ' with 'qiskit_ibm_provider.IBMProvider'\n",
      "  provider = IBMQ.load_account()\n"
     ]
    }
   ],
   "source": [
    "import numpy as np\n",
    "\n",
    "# Importing standard Qiskit libraries\n",
    "from qiskit import QuantumCircuit, transpile, Aer, IBMQ\n",
    "from qiskit.tools.jupyter import *\n",
    "from qiskit.visualization import *\n",
    "from ibm_quantum_widgets import *\n",
    "from qiskit.providers.aer import QasmSimulator\n",
    "\n",
    "# Loading your IBM Quantum account(s)\n",
    "provider = IBMQ.load_account()"
   ]
  },
  {
   "cell_type": "code",
   "execution_count": 4,
   "id": "88a22d20-33f9-4993-837d-03c6d5125ae4",
   "metadata": {
    "tags": []
   },
   "outputs": [],
   "source": [
    "import matplotlib.pyplot as plt\n",
    "import numpy as np\n",
    "import pandas as pd"
   ]
  },
  {
   "cell_type": "code",
   "execution_count": 5,
   "id": "8538a76e-9e05-4bce-95f0-ab0ffb1d707a",
   "metadata": {
    "tags": []
   },
   "outputs": [],
   "source": [
    "df = pd.read_csv('sentiment_tweets - Copy2.csv')\n"
   ]
  },
  {
   "cell_type": "code",
   "execution_count": 6,
   "id": "ce2342e4-c7d7-4a8f-ae4d-b7034e8aae6c",
   "metadata": {
    "tags": []
   },
   "outputs": [
    {
     "name": "stdout",
     "output_type": "stream",
     "text": [
      "<class 'pandas.core.frame.DataFrame'>\n",
      "RangeIndex: 10314 entries, 0 to 10313\n",
      "Data columns (total 8 columns):\n",
      " #   Column              Non-Null Count  Dtype  \n",
      "---  ------              --------------  -----  \n",
      " 0   index               10314 non-null  int64  \n",
      " 1   Tweet_Content       10314 non-null  object \n",
      " 2   negative_score      10314 non-null  float64\n",
      " 3   positive_score      10314 non-null  float64\n",
      " 4   neutral_score       10314 non-null  float64\n",
      " 5   compound_score      10314 non-null  float64\n",
      " 6   subjectivity_score  10314 non-null  float64\n",
      " 7   label               10314 non-null  int64  \n",
      "dtypes: float64(5), int64(2), object(1)\n",
      "memory usage: 644.8+ KB\n"
     ]
    }
   ],
   "source": [
    "df.info()"
   ]
  },
  {
   "cell_type": "code",
   "execution_count": 7,
   "id": "be1d066b-54bb-4467-9614-a30272a235e6",
   "metadata": {
    "tags": []
   },
   "outputs": [
    {
     "data": {
      "text/html": [
       "<div>\n",
       "<style scoped>\n",
       "    .dataframe tbody tr th:only-of-type {\n",
       "        vertical-align: middle;\n",
       "    }\n",
       "\n",
       "    .dataframe tbody tr th {\n",
       "        vertical-align: top;\n",
       "    }\n",
       "\n",
       "    .dataframe thead th {\n",
       "        text-align: right;\n",
       "    }\n",
       "</style>\n",
       "<table border=\"1\" class=\"dataframe\">\n",
       "  <thead>\n",
       "    <tr style=\"text-align: right;\">\n",
       "      <th></th>\n",
       "      <th>index</th>\n",
       "      <th>Tweet_Content</th>\n",
       "      <th>negative_score</th>\n",
       "      <th>positive_score</th>\n",
       "      <th>neutral_score</th>\n",
       "      <th>compound_score</th>\n",
       "      <th>subjectivity_score</th>\n",
       "      <th>label</th>\n",
       "    </tr>\n",
       "  </thead>\n",
       "  <tbody>\n",
       "    <tr>\n",
       "      <th>0</th>\n",
       "      <td>106</td>\n",
       "      <td>just had a real good moment. i missssssssss hi...</td>\n",
       "      <td>0.0</td>\n",
       "      <td>0.225</td>\n",
       "      <td>0.775</td>\n",
       "      <td>0.4404</td>\n",
       "      <td>0.9956</td>\n",
       "      <td>0</td>\n",
       "    </tr>\n",
       "    <tr>\n",
       "      <th>1</th>\n",
       "      <td>217</td>\n",
       "      <td>is reading manga  http://plurk.com/p/mzp1e</td>\n",
       "      <td>0.0</td>\n",
       "      <td>0.000</td>\n",
       "      <td>1.000</td>\n",
       "      <td>0.0000</td>\n",
       "      <td>0.0000</td>\n",
       "      <td>0</td>\n",
       "    </tr>\n",
       "    <tr>\n",
       "      <th>2</th>\n",
       "      <td>220</td>\n",
       "      <td>@comeagainjen http://twitpic.com/2y2lx - http:...</td>\n",
       "      <td>0.0</td>\n",
       "      <td>0.000</td>\n",
       "      <td>1.000</td>\n",
       "      <td>0.0000</td>\n",
       "      <td>0.0000</td>\n",
       "      <td>0</td>\n",
       "    </tr>\n",
       "    <tr>\n",
       "      <th>3</th>\n",
       "      <td>288</td>\n",
       "      <td>@lapcat Need to send 'em to my accountant tomo...</td>\n",
       "      <td>0.0</td>\n",
       "      <td>0.121</td>\n",
       "      <td>0.879</td>\n",
       "      <td>0.4404</td>\n",
       "      <td>0.9918</td>\n",
       "      <td>0</td>\n",
       "    </tr>\n",
       "    <tr>\n",
       "      <th>4</th>\n",
       "      <td>540</td>\n",
       "      <td>ADD ME ON MYSPACE!!!  myspace.com/LookThunder</td>\n",
       "      <td>0.0</td>\n",
       "      <td>0.000</td>\n",
       "      <td>1.000</td>\n",
       "      <td>0.0000</td>\n",
       "      <td>0.0000</td>\n",
       "      <td>0</td>\n",
       "    </tr>\n",
       "  </tbody>\n",
       "</table>\n",
       "</div>"
      ],
      "text/plain": [
       "   index                                      Tweet_Content  negative_score  \\\n",
       "0    106  just had a real good moment. i missssssssss hi...             0.0   \n",
       "1    217         is reading manga  http://plurk.com/p/mzp1e             0.0   \n",
       "2    220  @comeagainjen http://twitpic.com/2y2lx - http:...             0.0   \n",
       "3    288  @lapcat Need to send 'em to my accountant tomo...             0.0   \n",
       "4    540      ADD ME ON MYSPACE!!!  myspace.com/LookThunder             0.0   \n",
       "\n",
       "   positive_score  neutral_score  compound_score  subjectivity_score  label  \n",
       "0           0.225          0.775          0.4404              0.9956      0  \n",
       "1           0.000          1.000          0.0000              0.0000      0  \n",
       "2           0.000          1.000          0.0000              0.0000      0  \n",
       "3           0.121          0.879          0.4404              0.9918      0  \n",
       "4           0.000          1.000          0.0000              0.0000      0  "
      ]
     },
     "execution_count": 7,
     "metadata": {},
     "output_type": "execute_result"
    }
   ],
   "source": [
    "df.head()"
   ]
  },
  {
   "cell_type": "code",
   "execution_count": 8,
   "id": "21db3a85-ca99-48fc-8de9-b0aebd46ff40",
   "metadata": {
    "tags": []
   },
   "outputs": [
    {
     "name": "stdout",
     "output_type": "stream",
     "text": [
      "       negative_score  positive_score  neutral_score  compound_score  \\\n",
      "0               0.000           0.225          0.775          0.4404   \n",
      "1               0.000           0.000          1.000          0.0000   \n",
      "2               0.000           0.000          1.000          0.0000   \n",
      "3               0.000           0.121          0.879          0.4404   \n",
      "4               0.000           0.000          1.000          0.0000   \n",
      "...               ...             ...            ...             ...   \n",
      "10309           0.106           0.128          0.766          0.1275   \n",
      "10310           0.167           0.113          0.721         -0.2960   \n",
      "10311           0.469           0.131          0.400         -0.7845   \n",
      "10312           0.229           0.338          0.433          0.1950   \n",
      "10313           0.000           0.000          1.000          0.0000   \n",
      "\n",
      "       subjectivity_score  \n",
      "0                  0.9956  \n",
      "1                  0.0000  \n",
      "2                  0.0000  \n",
      "3                  0.9918  \n",
      "4                  0.0000  \n",
      "...                   ...  \n",
      "10309              0.0936  \n",
      "10310              0.1922  \n",
      "10311              0.5624  \n",
      "10312              0.1919  \n",
      "10313              0.0000  \n",
      "\n",
      "[10314 rows x 5 columns]\n",
      "<class 'pandas.core.frame.DataFrame'>\n",
      "RangeIndex: 10314 entries, 0 to 10313\n",
      "Data columns (total 5 columns):\n",
      " #   Column              Non-Null Count  Dtype  \n",
      "---  ------              --------------  -----  \n",
      " 0   negative_score      10314 non-null  float64\n",
      " 1   positive_score      10314 non-null  float64\n",
      " 2   neutral_score       10314 non-null  float64\n",
      " 3   compound_score      10314 non-null  float64\n",
      " 4   subjectivity_score  10314 non-null  float64\n",
      "dtypes: float64(5)\n",
      "memory usage: 403.0 KB\n",
      "None\n"
     ]
    }
   ],
   "source": [
    "features = df.iloc[:,2:7]\n",
    "# features = features.iloc[1:]\n",
    "\n",
    "print(features)\n",
    "print(features.info())"
   ]
  },
  {
   "cell_type": "code",
   "execution_count": 9,
   "id": "25a046d1-6762-4607-bc6f-bc151a3b059d",
   "metadata": {
    "tags": []
   },
   "outputs": [
    {
     "name": "stdout",
     "output_type": "stream",
     "text": [
      "0        0\n",
      "1        0\n",
      "2        0\n",
      "3        0\n",
      "4        0\n",
      "        ..\n",
      "10309    1\n",
      "10310    1\n",
      "10311    1\n",
      "10312    1\n",
      "10313    1\n",
      "Name: label, Length: 10314, dtype: int64\n"
     ]
    }
   ],
   "source": [
    "labels = df['label']\n",
    "print(labels)"
   ]
  },
  {
   "cell_type": "code",
   "execution_count": 31,
   "id": "7d4e8be3-b0a7-4d12-9eb4-c7e9336c1dc9",
   "metadata": {
    "tags": []
   },
   "outputs": [],
   "source": [
    "# from sklearn.preprocessing import MinMaxScaler\n",
    "\n",
    "# features = MinMaxScaler().fit_transform(features)"
   ]
  },
  {
   "cell_type": "code",
   "execution_count": 10,
   "id": "3fba958f-29aa-40bf-9e3e-b8c2ece20bd4",
   "metadata": {},
   "outputs": [
    {
     "data": {
      "image/png": "[encoded data removed]",
      "text/plain": [
       "<Figure size 1792.5x1454.83 with 1 Axes>"
      ]
     },
     "execution_count": 10,
     "metadata": {},
     "output_type": "execute_result"
    }
   ],
   "source": [
    "\n",
    "from qiskit.circuit.library import ZZFeatureMap\n",
    "\n",
    "num_features = features.shape[1]\n",
    "\n",
    "feature_map = ZZFeatureMap(feature_dimension=num_features, reps=1)\n",
    "feature_map.decompose().draw(output=\"mpl\", fold=20)"
   ]
  },
  {
   "cell_type": "code",
   "execution_count": 11,
   "id": "7b663335-d82a-4381-aafc-ed14e159c773",
   "metadata": {
    "tags": []
   },
   "outputs": [
    {
     "data": {
      "image/png": "[encoded data removed]",
      "text/plain": [
       "<Figure size 1123.61x451.5 with 1 Axes>"
      ]
     },
     "execution_count": 11,
     "metadata": {},
     "output_type": "execute_result"
    }
   ],
   "source": [
    "from qiskit.circuit.library import RealAmplitudes\n",
    "\n",
    "ansatz = RealAmplitudes(num_qubits=num_features, reps=3)\n",
    "ansatz.decompose().draw(output=\"mpl\", fold=20)"
   ]
  },
  {
   "cell_type": "code",
   "execution_count": 12,
   "id": "8f3beb16-87db-440e-9010-bf6358b3587d",
   "metadata": {
    "tags": []
   },
   "outputs": [],
   "source": [
    "from qiskit.algorithms.optimizers import COBYLA\n",
    "\n",
    "optimizer = COBYLA(maxiter=100)"
   ]
  },
  {
   "cell_type": "code",
   "execution_count": 13,
   "id": "aa18b682-778e-4d9b-b9a8-35b2a5f2b4e7",
   "metadata": {
    "tags": []
   },
   "outputs": [],
   "source": [
    "from sklearn.model_selection import train_test_split\n",
    "from qiskit.utils import algorithm_globals\n",
    "\n",
    "algorithm_globals.random_seed = 123\n",
    "train_features, test_features, train_labels, test_labels = train_test_split(\n",
    "    features, labels, train_size=0.8, random_state=algorithm_globals.random_seed\n",
    ")\n"
   ]
  },
  {
   "cell_type": "code",
   "execution_count": 14,
   "id": "b01e67fc-7bc5-4f48-a839-7a8d15caf601",
   "metadata": {
    "tags": []
   },
   "outputs": [
    {
     "name": "stdout",
     "output_type": "stream",
     "text": [
      "<class 'pandas.core.frame.DataFrame'>\n",
      "<class 'numpy.ndarray'>\n"
     ]
    }
   ],
   "source": [
    "print(type(train_features))\n",
    "# print(type(train_labels))\n",
    "train_labels = np.array(train_labels)\n",
    "print(type(train_labels))"
   ]
  },
  {
   "cell_type": "code",
   "execution_count": 15,
   "id": "21eab7e6-c04f-4ac6-ad87-3baeea8216f5",
   "metadata": {
    "tags": []
   },
   "outputs": [
    {
     "name": "stdout",
     "output_type": "stream",
     "text": [
      "      negative_score  positive_score  neutral_score  compound_score  \\\n",
      "2595           0.000           0.000          1.000          0.0000   \n",
      "2743           0.000           0.336          0.664          0.7644   \n",
      "4986           0.000           0.000          1.000          0.0000   \n",
      "9913           0.142           0.042          0.816         -0.7777   \n",
      "8370           0.393           0.000          0.607         -0.8271   \n",
      "...              ...             ...            ...             ...   \n",
      "9785           0.506           0.000          0.494         -0.8481   \n",
      "7763           0.000           0.238          0.762          0.3612   \n",
      "5218           0.000           0.000          1.000          0.0000   \n",
      "1346           0.000           0.000          1.000          0.0000   \n",
      "3582           0.000           0.143          0.857          0.4574   \n",
      "\n",
      "      subjectivity_score  \n",
      "2595              0.0000  \n",
      "2743              0.9970  \n",
      "4986              0.0000  \n",
      "9913              0.5405  \n",
      "8370              0.9975  \n",
      "...                  ...  \n",
      "9785              0.9980  \n",
      "7763              0.9958  \n",
      "5218              0.0000  \n",
      "1346              0.0000  \n",
      "3582              0.9931  \n",
      "\n",
      "[8251 rows x 5 columns]\n",
      "[0 0 0 ... 0 0 0]\n"
     ]
    }
   ],
   "source": [
    "print(train_features)\n",
    "print(train_labels)"
   ]
  },
  {
   "cell_type": "code",
   "execution_count": null,
   "id": "a7b5ee3e-4333-4854-bed6-d50969c7fb78",
   "metadata": {
    "tags": []
   },
   "outputs": [
    {
     "data": {
      "image/png": "[encoded data removed]",
      "text/plain": [
       "<Figure size 1200x600 with 1 Axes>"
      ]
     },
     "metadata": {},
     "output_type": "display_data"
    },
    {
     "name": "stdout",
     "output_type": "stream",
     "text": [
      "Training time: 9671 seconds\n"
     ]
    }
   ],
   "source": [
    "from matplotlib import pyplot as plt\n",
    "from IPython.display import clear_output\n",
    "from qiskit.primitives import Sampler\n",
    "\n",
    "sampler = Sampler()\n",
    "\n",
    "import time\n",
    "from qiskit_machine_learning.algorithms.classifiers import VQC\n",
    "\n",
    "\n",
    "objective_func_vals = []\n",
    "plt.rcParams[\"figure.figsize\"] = (12, 6)\n",
    "\n",
    "\n",
    "def callback_graph(weights, obj_func_eval):\n",
    "    clear_output(wait=True)\n",
    "    objective_func_vals.append(obj_func_eval)\n",
    "    plt.title(\"Objective function value against iteration\")\n",
    "    plt.xlabel(\"Iteration\")\n",
    "    plt.ylabel(\"Objective function value\")\n",
    "    plt.plot(range(len(objective_func_vals)), objective_func_vals)\n",
    "    plt.show()\n",
    "    \n",
    "\n",
    "\n",
    "sampler = Sampler()\n",
    "\n",
    "\n",
    "vqc = VQC(\n",
    "    sampler=sampler,\n",
    "    feature_map=feature_map,\n",
    "    ansatz=ansatz,\n",
    "    optimizer=optimizer,\n",
    "    callback=callback_graph,\n",
    ")\n",
    "\n",
    "# clear objective value history\n",
    "objective_func_vals = []\n",
    "\n",
    "start = time.time()\n",
    "vqc.fit(train_features, train_labels)\n",
    "elapsed = time.time() - start\n",
    "\n",
    "print(f\"Training time: {round(elapsed)} seconds\")\n",
    "\n",
    "train_score_q4 = vqc.score(train_features, train_labels)\n",
    "test_score_q4 = vqc.score(test_features, test_labels)\n",
    "\n",
    "print(f\"Quantum VQC on the training dataset: {train_score_q4:.2f}\")\n",
    "print(f\"Quantum VQC on the test dataset:     {test_score_q4:.2f}\")"
   ]
  },
  {
   "cell_type": "code",
   "execution_count": 55,
   "id": "c9d2356b-6bda-487b-9ab7-ca9dedd7a995",
   "metadata": {
    "tags": []
   },
   "outputs": [
    {
     "name": "stdout",
     "output_type": "stream",
     "text": [
      "Quantum VQC on the training dataset: 0.86\n",
      "Quantum VQC on the test dataset:     0.86\n"
     ]
    }
   ],
   "source": [
    "train_score_q4 = vqc.score(train_features, train_labels)\n",
    "test_score_q4 = vqc.score(test_features, test_labels)\n",
    "\n",
    "print(f\"Quantum VQC on the training dataset: {train_score_q4:.2f}\")\n",
    "print(f\"Quantum VQC on the test dataset:     {test_score_q4:.2f}\")"
   ]
  },
  {
   "cell_type": "code",
   "execution_count": null,
   "id": "4b7897a0-3a6d-4d02-ac56-74e19a71f2de",
   "metadata": {},
   "outputs": [],
   "source": []
  }
 ],
 "metadata": {
  "kernelspec": {
   "display_name": "Python 3 (ipykernel)",
   "language": "python",
   "name": "python3"
  },
  "language_info": {
   "codemirror_mode": {
    "name": "ipython",
    "version": 3
   },
   "file_extension": ".py",
   "mimetype": "text/x-python",
   "name": "python",
   "nbconvert_exporter": "python",
   "pygments_lexer": "ipython3",
   "version": "3.10.8"
  },
  "widgets": {
   "application/vnd.jupyter.widget-state+json": {
    "state": {
     "0489d0bfde144ad0b6f9a98c7b7fb61b": {
      "model_module": "@jupyter-widgets/controls",
      "model_module_version": "2.0.0",
      "model_name": "HTMLStyleModel",
      "state": {
       "description_width": "",
       "font_size": null,
       "text_color": null
      }
     },
     "08078a7161b643c78abc7a00154bad59": {
      "model_module": "@jupyter-widgets/base",
      "model_module_version": "2.0.0",
      "model_name": "LayoutModel",
      "state": {
       "grid_area": "right",
       "padding": "0px 0px 0px 0px",
       "width": "70px"
      }
     },
     "0a415cf51d5146a7b022ece94688c579": {
      "model_module": "@jupyter-widgets/controls",
      "model_module_version": "2.0.0",
      "model_name": "HTMLModel",
      "state": {
       "layout": "IPY_MODEL_acbfc8896ae9419ba45af9042cc202bf",
       "style": "IPY_MODEL_0489d0bfde144ad0b6f9a98c7b7fb61b",
       "value": "<p style='font-family: IBM Plex Sans, Arial, Helvetica, sans-serif; font-size: 20px; font-weight: medium;'>Circuit Properties</p>"
      }
     },
     "0bded9295c9b45ca97c5e91f41863884": {
      "model_module": "@jupyter-widgets/controls",
      "model_module_version": "2.0.0",
      "model_name": "HTMLModel",
      "state": {
       "layout": "IPY_MODEL_a0c9eb50dd08458ba7e45fb1ed733836",
       "style": "IPY_MODEL_858d75fbf6a5433dafbaf6fa42bc9b0c",
       "value": "<h5>Message</h5>"
      }
     },
     "25917395fa604fcc8f2c90afc9b452d2": {
      "model_module": "@jupyter-widgets/base",
      "model_module_version": "2.0.0",
      "model_name": "LayoutModel",
      "state": {
       "margin": "0px 0px 0px 37px",
       "width": "600px"
      }
     },
     "2dd57cacfc0b456cb03255de51111524": {
      "model_module": "@jupyter-widgets/controls",
      "model_module_version": "2.0.0",
      "model_name": "HTMLModel",
      "state": {
       "layout": "IPY_MODEL_8be772d989db454bb4ec420a3edc4877",
       "style": "IPY_MODEL_be0cdb53b3494cc29154b9ddc739d6ea",
       "value": "<p style='font-family: IBM Plex Sans, Arial, Helvetica, sans-serif; font-size: 20px; font-weight: medium;'>Circuit Properties</p>"
      }
     },
     "31fbdd0bd1c4430e9b601df7135459f2": {
      "model_module": "@jupyter-widgets/base",
      "model_module_version": "2.0.0",
      "model_name": "LayoutModel",
      "state": {}
     },
     "39d2ea83dd7542f0b1e3b5b91c107103": {
      "model_module": "@jupyter-widgets/controls",
      "model_module_version": "2.0.0",
      "model_name": "HTMLModel",
      "state": {
       "layout": "IPY_MODEL_fbab772deca9423f8e3d1342228a1d8d",
       "style": "IPY_MODEL_c381b088a466423f84a690fae9f687d5",
       "value": "<h5>Queue</h5>"
      }
     },
     "43999f9d083447aea9ab446cf2f3f8a5": {
      "model_module": "@jupyter-widgets/controls",
      "model_module_version": "2.0.0",
      "model_name": "ButtonStyleModel",
      "state": {
       "font_family": null,
       "font_size": null,
       "font_style": null,
       "font_variant": null,
       "font_weight": null,
       "text_color": null,
       "text_decoration": null
      }
     },
     "4e7a41e717554026a81dd283dfd417b7": {
      "model_module": "@jupyter-widgets/base",
      "model_module_version": "2.0.0",
      "model_name": "LayoutModel",
      "state": {
       "grid_area": "right",
       "padding": "0px 0px 0px 0px",
       "width": "70px"
      }
     },
     "4eb2520582034f9684ea402451e79e4b": {
      "model_module": "@jupyter-widgets/controls",
      "model_module_version": "2.0.0",
      "model_name": "ButtonModel",
      "state": {
       "button_style": "primary",
       "description": "Clear",
       "layout": "IPY_MODEL_4e7a41e717554026a81dd283dfd417b7",
       "style": "IPY_MODEL_8507de41d3d247dba225a56f06023536",
       "tooltip": null
      }
     },
     "5a32109de011483891883f58b0cc90a8": {
      "model_module": "@jupyter-widgets/controls",
      "model_module_version": "2.0.0",
      "model_name": "HTMLModel",
      "state": {
       "layout": "IPY_MODEL_31fbdd0bd1c4430e9b601df7135459f2",
       "style": "IPY_MODEL_f15f5d0d96c34da2adf2ebc10575fb0f",
       "value": "<h5>Message</h5>"
      }
     },
     "5ff325a56f034b84b6197c0d49ab64aa": {
      "model_module": "@jupyter-widgets/controls",
      "model_module_version": "2.0.0",
      "model_name": "HTMLModel",
      "state": {
       "layout": "IPY_MODEL_71d9bee699684595a652f0c36626f8a1",
       "style": "IPY_MODEL_ba83ecc643cd4f36825ebd4cf17363eb",
       "value": "<h5>Backend</h5>"
      }
     },
     "64002ccb89a54d8ca942244d4396f06e": {
      "model_module": "@jupyter-widgets/controls",
      "model_module_version": "2.0.0",
      "model_name": "HTMLStyleModel",
      "state": {
       "description_width": "",
       "font_size": null,
       "text_color": null
      }
     },
     "6950ce11b35442fd85f129791adf898b": {
      "model_module": "@jupyter-widgets/base",
      "model_module_version": "2.0.0",
      "model_name": "LayoutModel",
      "state": {
       "grid_template_areas": "\n                                       \". . . . right \"\n                                        ",
       "grid_template_columns": "20% 20% 20% 20% 20%",
       "width": "100%"
      }
     },
     "6aaab35335554365ac874b8342cd433e": {
      "model_module": "@jupyter-widgets/base",
      "model_module_version": "2.0.0",
      "model_name": "LayoutModel",
      "state": {
       "width": "190px"
      }
     },
     "6f2931b7c3634463922070dc27caf041": {
      "model_module": "@jupyter-widgets/base",
      "model_module_version": "2.0.0",
      "model_name": "LayoutModel",
      "state": {
       "width": "145px"
      }
     },
     "71d9bee699684595a652f0c36626f8a1": {
      "model_module": "@jupyter-widgets/base",
      "model_module_version": "2.0.0",
      "model_name": "LayoutModel",
      "state": {
       "width": "145px"
      }
     },
     "75b2d6b777c84187aac782b4eccc4591": {
      "model_module": "@jupyter-widgets/controls",
      "model_module_version": "2.0.0",
      "model_name": "HTMLModel",
      "state": {
       "layout": "IPY_MODEL_91d75a3bc1444dd7801e1eacb012904b",
       "style": "IPY_MODEL_ace0efb778ec48399c24f53f7bcd42dc",
       "value": "<h5>Status</h5>"
      }
     },
     "7bb65e4a245e494b986d5bf69f26181f": {
      "model_module": "@jupyter-widgets/controls",
      "model_module_version": "2.0.0",
      "model_name": "HBoxModel",
      "state": {
       "children": [
        "IPY_MODEL_e10a5bd3c4004cd6ab94cd987c0f47ed",
        "IPY_MODEL_5ff325a56f034b84b6197c0d49ab64aa",
        "IPY_MODEL_7e15f832bc2644e091ea0821efee72fd",
        "IPY_MODEL_39d2ea83dd7542f0b1e3b5b91c107103",
        "IPY_MODEL_0bded9295c9b45ca97c5e91f41863884"
       ],
       "layout": "IPY_MODEL_968ba7eac1914809bfc4799d1abc4d73"
      }
     },
     "7e15f832bc2644e091ea0821efee72fd": {
      "model_module": "@jupyter-widgets/controls",
      "model_module_version": "2.0.0",
      "model_name": "HTMLModel",
      "state": {
       "layout": "IPY_MODEL_ce9e1ab4558d4d6d83a4c98811bbbccd",
       "style": "IPY_MODEL_9fe04c11c1a44a8bbbd2e1d4b23f62ba",
       "value": "<h5>Status</h5>"
      }
     },
     "81c25b43fca5404f9c09f896c785840e": {
      "model_module": "@jupyter-widgets/controls",
      "model_module_version": "2.0.0",
      "model_name": "HTMLStyleModel",
      "state": {
       "description_width": "",
       "font_size": null,
       "text_color": null
      }
     },
     "84725f07029c4470b6c8e49c5ad4000c": {
      "model_module": "@jupyter-widgets/controls",
      "model_module_version": "2.0.0",
      "model_name": "GridBoxModel",
      "state": {
       "children": [
        "IPY_MODEL_ab06ceae3777497dafc588adfa6a77bb"
       ],
       "layout": "IPY_MODEL_6950ce11b35442fd85f129791adf898b"
      }
     },
     "8507de41d3d247dba225a56f06023536": {
      "model_module": "@jupyter-widgets/controls",
      "model_module_version": "2.0.0",
      "model_name": "ButtonStyleModel",
      "state": {
       "font_family": null,
       "font_size": null,
       "font_style": null,
       "font_variant": null,
       "font_weight": null,
       "text_color": null,
       "text_decoration": null
      }
     },
     "858d75fbf6a5433dafbaf6fa42bc9b0c": {
      "model_module": "@jupyter-widgets/controls",
      "model_module_version": "2.0.0",
      "model_name": "HTMLStyleModel",
      "state": {
       "description_width": "",
       "font_size": null,
       "text_color": null
      }
     },
     "8be772d989db454bb4ec420a3edc4877": {
      "model_module": "@jupyter-widgets/base",
      "model_module_version": "2.0.0",
      "model_name": "LayoutModel",
      "state": {
       "margin": "0px 0px 10px 0px"
      }
     },
     "91d75a3bc1444dd7801e1eacb012904b": {
      "model_module": "@jupyter-widgets/base",
      "model_module_version": "2.0.0",
      "model_name": "LayoutModel",
      "state": {
       "width": "95px"
      }
     },
     "968ba7eac1914809bfc4799d1abc4d73": {
      "model_module": "@jupyter-widgets/base",
      "model_module_version": "2.0.0",
      "model_name": "LayoutModel",
      "state": {
       "margin": "0px 0px 0px 37px",
       "width": "600px"
      }
     },
     "9901cd61fab84044b6f5518ac9c83a5f": {
      "model_module": "@jupyter-widgets/controls",
      "model_module_version": "2.0.0",
      "model_name": "HTMLStyleModel",
      "state": {
       "description_width": "",
       "font_size": null,
       "text_color": null
      }
     },
     "9d7a75d4c1a845e8a3207308f817300f": {
      "model_module": "@jupyter-widgets/controls",
      "model_module_version": "2.0.0",
      "model_name": "HTMLModel",
      "state": {
       "layout": "IPY_MODEL_6f2931b7c3634463922070dc27caf041",
       "style": "IPY_MODEL_81c25b43fca5404f9c09f896c785840e",
       "value": "<h5>Backend</h5>"
      }
     },
     "9fe04c11c1a44a8bbbd2e1d4b23f62ba": {
      "model_module": "@jupyter-widgets/controls",
      "model_module_version": "2.0.0",
      "model_name": "HTMLStyleModel",
      "state": {
       "description_width": "",
       "font_size": null,
       "text_color": null
      }
     },
     "a0c9eb50dd08458ba7e45fb1ed733836": {
      "model_module": "@jupyter-widgets/base",
      "model_module_version": "2.0.0",
      "model_name": "LayoutModel",
      "state": {}
     },
     "ab06ceae3777497dafc588adfa6a77bb": {
      "model_module": "@jupyter-widgets/controls",
      "model_module_version": "2.0.0",
      "model_name": "ButtonModel",
      "state": {
       "button_style": "primary",
       "description": "Clear",
       "layout": "IPY_MODEL_08078a7161b643c78abc7a00154bad59",
       "style": "IPY_MODEL_43999f9d083447aea9ab446cf2f3f8a5",
       "tooltip": null
      }
     },
     "abb53436b16e40beae22ef3b65bdc9e1": {
      "model_module": "@jupyter-widgets/controls",
      "model_module_version": "2.0.0",
      "model_name": "HTMLModel",
      "state": {
       "layout": "IPY_MODEL_f1367ef0b8c84f10ba87f4b8008f8b1c",
       "style": "IPY_MODEL_beba47e0af6a4b4e831a4d67429b0b84",
       "value": "<h5>Queue</h5>"
      }
     },
     "acbfc8896ae9419ba45af9042cc202bf": {
      "model_module": "@jupyter-widgets/base",
      "model_module_version": "2.0.0",
      "model_name": "LayoutModel",
      "state": {
       "margin": "0px 0px 10px 0px"
      }
     },
     "acddff9c41724db8bf48d104a47945a3": {
      "model_module": "@jupyter-widgets/controls",
      "model_module_version": "2.0.0",
      "model_name": "HBoxModel",
      "state": {
       "children": [
        "IPY_MODEL_ebab3ca8dec54f03a7df6ec6c9d546ba",
        "IPY_MODEL_9d7a75d4c1a845e8a3207308f817300f",
        "IPY_MODEL_75b2d6b777c84187aac782b4eccc4591",
        "IPY_MODEL_abb53436b16e40beae22ef3b65bdc9e1",
        "IPY_MODEL_5a32109de011483891883f58b0cc90a8"
       ],
       "layout": "IPY_MODEL_25917395fa604fcc8f2c90afc9b452d2"
      }
     },
     "ace0efb778ec48399c24f53f7bcd42dc": {
      "model_module": "@jupyter-widgets/controls",
      "model_module_version": "2.0.0",
      "model_name": "HTMLStyleModel",
      "state": {
       "description_width": "",
       "font_size": null,
       "text_color": null
      }
     },
     "ba83ecc643cd4f36825ebd4cf17363eb": {
      "model_module": "@jupyter-widgets/controls",
      "model_module_version": "2.0.0",
      "model_name": "HTMLStyleModel",
      "state": {
       "description_width": "",
       "font_size": null,
       "text_color": null
      }
     },
     "be0cdb53b3494cc29154b9ddc739d6ea": {
      "model_module": "@jupyter-widgets/controls",
      "model_module_version": "2.0.0",
      "model_name": "HTMLStyleModel",
      "state": {
       "description_width": "",
       "font_size": null,
       "text_color": null
      }
     },
     "beba47e0af6a4b4e831a4d67429b0b84": {
      "model_module": "@jupyter-widgets/controls",
      "model_module_version": "2.0.0",
      "model_name": "HTMLStyleModel",
      "state": {
       "description_width": "",
       "font_size": null,
       "text_color": null
      }
     },
     "c381b088a466423f84a690fae9f687d5": {
      "model_module": "@jupyter-widgets/controls",
      "model_module_version": "2.0.0",
      "model_name": "HTMLStyleModel",
      "state": {
       "description_width": "",
       "font_size": null,
       "text_color": null
      }
     },
     "ce9e1ab4558d4d6d83a4c98811bbbccd": {
      "model_module": "@jupyter-widgets/base",
      "model_module_version": "2.0.0",
      "model_name": "LayoutModel",
      "state": {
       "width": "95px"
      }
     },
     "cf978537506247ed97ca0d7b5ffe13de": {
      "model_module": "@jupyter-widgets/base",
      "model_module_version": "2.0.0",
      "model_name": "LayoutModel",
      "state": {
       "width": "190px"
      }
     },
     "d02069bbdc4f437fb3f221bff116115a": {
      "model_module": "@jupyter-widgets/base",
      "model_module_version": "2.0.0",
      "model_name": "LayoutModel",
      "state": {
       "grid_template_areas": "\n                                       \". . . . right \"\n                                        ",
       "grid_template_columns": "20% 20% 20% 20% 20%",
       "width": "100%"
      }
     },
     "e10a5bd3c4004cd6ab94cd987c0f47ed": {
      "model_module": "@jupyter-widgets/controls",
      "model_module_version": "2.0.0",
      "model_name": "HTMLModel",
      "state": {
       "layout": "IPY_MODEL_cf978537506247ed97ca0d7b5ffe13de",
       "style": "IPY_MODEL_9901cd61fab84044b6f5518ac9c83a5f",
       "value": "<h5>Job ID</h5>"
      }
     },
     "e4fe5d02d0bb4a4491d368688fa1fa90": {
      "model_module": "@jupyter-widgets/controls",
      "model_module_version": "2.0.0",
      "model_name": "GridBoxModel",
      "state": {
       "children": [
        "IPY_MODEL_4eb2520582034f9684ea402451e79e4b"
       ],
       "layout": "IPY_MODEL_d02069bbdc4f437fb3f221bff116115a"
      }
     },
     "ebab3ca8dec54f03a7df6ec6c9d546ba": {
      "model_module": "@jupyter-widgets/controls",
      "model_module_version": "2.0.0",
      "model_name": "HTMLModel",
      "state": {
       "layout": "IPY_MODEL_6aaab35335554365ac874b8342cd433e",
       "style": "IPY_MODEL_64002ccb89a54d8ca942244d4396f06e",
       "value": "<h5>Job ID</h5>"
      }
     },
     "f1367ef0b8c84f10ba87f4b8008f8b1c": {
      "model_module": "@jupyter-widgets/base",
      "model_module_version": "2.0.0",
      "model_name": "LayoutModel",
      "state": {
       "width": "70px"
      }
     },
     "f15f5d0d96c34da2adf2ebc10575fb0f": {
      "model_module": "@jupyter-widgets/controls",
      "model_module_version": "2.0.0",
      "model_name": "HTMLStyleModel",
      "state": {
       "description_width": "",
       "font_size": null,
       "text_color": null
      }
     },
     "fbab772deca9423f8e3d1342228a1d8d": {
      "model_module": "@jupyter-widgets/base",
      "model_module_version": "2.0.0",
      "model_name": "LayoutModel",
      "state": {
       "width": "70px"
      }
     }
    },
    "version_major": 2,
    "version_minor": 0
   }
  }
 },
 "nbformat": 4,
 "nbformat_minor": 5
}
