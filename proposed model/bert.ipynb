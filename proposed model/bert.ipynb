{
 "cells": [
  {
   "cell_type": "code",
   "execution_count": 3,
   "id": "2a8e2e87-0e61-4724-82fd-0f466521d592",
   "metadata": {
    "tags": []
   },
   "outputs": [],
   "source": [
    "import pandas as pd\n",
    "import torch\n",
    "import numpy as np\n",
    "from transformers import BertModel, BertTokenizer"
   ]
  },
  {
   "cell_type": "code",
   "execution_count": 4,
   "id": "8ced13cf-6f04-4069-8821-1632dc3df98b",
   "metadata": {
    "tags": []
   },
   "outputs": [
    {
     "name": "stderr",
     "output_type": "stream",
     "text": [
      "Some weights of the model checkpoint at bert-base-uncased were not used when initializing BertModel: ['cls.predictions.transform.dense.bias', 'cls.seq_relationship.bias', 'cls.predictions.bias', 'cls.predictions.transform.dense.weight', 'cls.predictions.transform.LayerNorm.bias', 'cls.seq_relationship.weight', 'cls.predictions.decoder.weight', 'cls.predictions.transform.LayerNorm.weight']\n",
      "- This IS expected if you are initializing BertModel from the checkpoint of a model trained on another task or with another architecture (e.g. initializing a BertForSequenceClassification model from a BertForPreTraining model).\n",
      "- This IS NOT expected if you are initializing BertModel from the checkpoint of a model that you expect to be exactly identical (initializing a BertForSequenceClassification model from a BertForSequenceClassification model).\n"
     ]
    }
   ],
   "source": [
    "model_name = 'bert-base-uncased'\n",
    "model = BertModel.from_pretrained(model_name)\n",
    "tokenizer = BertTokenizer.from_pretrained(model_name)"
   ]
  },
  {
   "cell_type": "code",
   "execution_count": 5,
   "id": "e4fbd643-d157-4423-9ac0-282e3c7d8700",
   "metadata": {
    "tags": []
   },
   "outputs": [],
   "source": [
    "df=pd.read_csv('sentiment_tweets - Copy.csv')"
   ]
  },
  {
   "cell_type": "code",
   "execution_count": 6,
   "id": "932d0a2e-9e84-4149-8b9b-ffa800c1bd8f",
   "metadata": {
    "tags": []
   },
   "outputs": [],
   "source": [
    "# Define batch size\n",
    "batch_size = 32"
   ]
  },
  {
   "cell_type": "code",
   "execution_count": 8,
   "id": "3e17f1d3-8223-4a7a-bbd1-2293b1aad879",
   "metadata": {
    "tags": []
   },
   "outputs": [],
   "source": [
    "embeddings = []\n",
    "for i in range(0, len(df), batch_size):\n",
    "    batch = df['Tweet_Content'][i:i+batch_size].tolist()\n",
    "    tokens = tokenizer.batch_encode_plus(\n",
    "        batch, padding=True, truncation=True, max_length=512, return_tensors='pt')\n",
    "    with torch.no_grad():\n",
    "        outputs = model(**tokens)\n",
    "    batch_embeddings = outputs[0][:, 0, :].numpy()\n",
    "    embeddings.append(batch_embeddings)"
   ]
  },
  {
   "cell_type": "code",
   "execution_count": 9,
   "id": "4a6779d1-f109-48d5-98c6-3e65cb05c74c",
   "metadata": {
    "tags": []
   },
   "outputs": [],
   "source": [
    "# Concatenate the embeddings and convert to a pandas DataFrame\n",
    "embeddings = np.concatenate(embeddings, axis=0)\n",
    "df_emb = pd.DataFrame(embeddings)\n"
   ]
  },
  {
   "cell_type": "code",
   "execution_count": 10,
   "id": "3dacf0f1-9776-46a5-a8ef-7d79fa95b3bc",
   "metadata": {
    "tags": []
   },
   "outputs": [],
   "source": [
    "# Concatenate the original tweets DataFrame and the embeddings DataFrame\n",
    "df_final = pd.concat([df, df_emb], axis=1)"
   ]
  },
  {
   "cell_type": "code",
   "execution_count": 11,
   "id": "50ff66a4-e4d0-4419-944b-ac8b9c44ca66",
   "metadata": {
    "tags": []
   },
   "outputs": [],
   "source": [
    "# Save the DataFrame to a CSV file\n",
    "df_final.to_csv('tweet_embeddings.csv', index=False)\n"
   ]
  },
  {
   "cell_type": "code",
   "execution_count": null,
   "id": "63871e20-a97f-4ef7-be12-89382c347d02",
   "metadata": {},
   "outputs": [],
   "source": []
  }
 ],
 "metadata": {
  "kernelspec": {
   "display_name": "Python 3 (ipykernel)",
   "language": "python",
   "name": "python3"
  },
  "language_info": {
   "codemirror_mode": {
    "name": "ipython",
    "version": 3
   },
   "file_extension": ".py",
   "mimetype": "text/x-python",
   "name": "python",
   "nbconvert_exporter": "python",
   "pygments_lexer": "ipython3",
   "version": "3.10.8"
  },
  "widgets": {
   "application/vnd.jupyter.widget-state+json": {
    "state": {},
    "version_major": 2,
    "version_minor": 0
   }
  }
 },
 "nbformat": 4,
 "nbformat_minor": 5
}
