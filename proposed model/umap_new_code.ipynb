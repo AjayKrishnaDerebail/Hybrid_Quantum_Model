{
 "cells": [
  {
   "cell_type": "code",
   "execution_count": 1,
   "id": "6b7008e9-138b-41ab-aa00-eaf25791644a",
   "metadata": {
    "tags": []
   },
   "outputs": [
    {
     "name": "stderr",
     "output_type": "stream",
     "text": [
      "/tmp/ipykernel_119/3295844494.py:11: DeprecationWarning: The qiskit.IBMQ entrypoint and the qiskit-ibmq-provider package (accessible from 'qiskit.providers.ibmq`) are deprecated and will be removed in a future release. Instead you should use the qiskit-ibm-provider package which is accessible from 'qiskit_ibm_provider'. You can install it with 'pip install qiskit_ibm_provider'. Just replace 'qiskit.IBMQ' with 'qiskit_ibm_provider.IBMProvider'\n",
      "  provider = IBMQ.load_account()\n"
     ]
    }
   ],
   "source": [
    "from qiskit import QuantumCircuit, transpile, Aer, IBMQ\n",
    "from qiskit.tools.jupyter import *\n",
    "from qiskit.visualization import *\n",
    "from ibm_quantum_widgets import *\n",
    "from qiskit.providers.aer import QasmSimulator\n",
    "from qiskit.utils import algorithm_globals\n",
    "from sklearn.model_selection import train_test_split\n",
    "from IPython.display import clear_output\n",
    "\n",
    "# Loading your IBM Quantum account(s)\n",
    "provider = IBMQ.load_account()\n",
    "\n",
    "import matplotlib.pyplot as plt\n",
    "import numpy as np\n",
    "import pandas as pd\n"
   ]
  },
  {
   "cell_type": "code",
   "execution_count": 2,
   "id": "a9b41643-a8e9-40a7-a492-8c9c433707e3",
   "metadata": {
    "tags": []
   },
   "outputs": [],
   "source": [
    "#!pip install qiskit_ibm_provider"
   ]
  },
  {
   "cell_type": "code",
   "execution_count": 3,
   "id": "88a22d20-33f9-4993-837d-03c6d5125ae4",
   "metadata": {
    "tags": []
   },
   "outputs": [],
   "source": [
    "import matplotlib.pyplot as plt\n",
    "import numpy as np\n",
    "import pandas as pd\n",
    "import warnings\n",
    "warnings.filterwarnings('ignore')"
   ]
  },
  {
   "cell_type": "code",
   "execution_count": 7,
   "id": "8538a76e-9e05-4bce-95f0-ab0ffb1d707a",
   "metadata": {
    "tags": []
   },
   "outputs": [],
   "source": [
    "df = pd.read_csv('umap_embeddings_5.csv')\n"
   ]
  },
  {
   "cell_type": "code",
   "execution_count": 8,
   "id": "ce2342e4-c7d7-4a8f-ae4d-b7034e8aae6c",
   "metadata": {
    "tags": []
   },
   "outputs": [
    {
     "name": "stdout",
     "output_type": "stream",
     "text": [
      "<class 'pandas.core.frame.DataFrame'>\n",
      "RangeIndex: 10314 entries, 0 to 10313\n",
      "Data columns (total 6 columns):\n",
      " #   Column  Non-Null Count  Dtype  \n",
      "---  ------  --------------  -----  \n",
      " 0   0       10314 non-null  float64\n",
      " 1   1       10314 non-null  float64\n",
      " 2   2       10314 non-null  float64\n",
      " 3   3       10314 non-null  float64\n",
      " 4   4       10314 non-null  float64\n",
      " 5   label   10314 non-null  int64  \n",
      "dtypes: float64(5), int64(1)\n",
      "memory usage: 483.6 KB\n"
     ]
    }
   ],
   "source": [
    "df.info()"
   ]
  },
  {
   "cell_type": "code",
   "execution_count": 9,
   "id": "be1d066b-54bb-4467-9614-a30272a235e6",
   "metadata": {
    "tags": []
   },
   "outputs": [
    {
     "data": {
      "text/html": [
       "<div>\n",
       "<style scoped>\n",
       "    .dataframe tbody tr th:only-of-type {\n",
       "        vertical-align: middle;\n",
       "    }\n",
       "\n",
       "    .dataframe tbody tr th {\n",
       "        vertical-align: top;\n",
       "    }\n",
       "\n",
       "    .dataframe thead th {\n",
       "        text-align: right;\n",
       "    }\n",
       "</style>\n",
       "<table border=\"1\" class=\"dataframe\">\n",
       "  <thead>\n",
       "    <tr style=\"text-align: right;\">\n",
       "      <th></th>\n",
       "      <th>0</th>\n",
       "      <th>1</th>\n",
       "      <th>2</th>\n",
       "      <th>3</th>\n",
       "      <th>4</th>\n",
       "      <th>label</th>\n",
       "    </tr>\n",
       "  </thead>\n",
       "  <tbody>\n",
       "    <tr>\n",
       "      <th>0</th>\n",
       "      <td>9.788079</td>\n",
       "      <td>9.786986</td>\n",
       "      <td>5.798132</td>\n",
       "      <td>3.271540</td>\n",
       "      <td>11.044828</td>\n",
       "      <td>0</td>\n",
       "    </tr>\n",
       "    <tr>\n",
       "      <th>1</th>\n",
       "      <td>8.596200</td>\n",
       "      <td>6.203757</td>\n",
       "      <td>7.541268</td>\n",
       "      <td>3.400610</td>\n",
       "      <td>11.646584</td>\n",
       "      <td>0</td>\n",
       "    </tr>\n",
       "    <tr>\n",
       "      <th>2</th>\n",
       "      <td>8.941421</td>\n",
       "      <td>5.883195</td>\n",
       "      <td>7.981206</td>\n",
       "      <td>3.561140</td>\n",
       "      <td>11.073158</td>\n",
       "      <td>0</td>\n",
       "    </tr>\n",
       "    <tr>\n",
       "      <th>3</th>\n",
       "      <td>9.308008</td>\n",
       "      <td>9.559373</td>\n",
       "      <td>8.342915</td>\n",
       "      <td>3.439551</td>\n",
       "      <td>11.326474</td>\n",
       "      <td>0</td>\n",
       "    </tr>\n",
       "    <tr>\n",
       "      <th>4</th>\n",
       "      <td>8.945490</td>\n",
       "      <td>6.774744</td>\n",
       "      <td>7.835735</td>\n",
       "      <td>3.549780</td>\n",
       "      <td>11.791572</td>\n",
       "      <td>0</td>\n",
       "    </tr>\n",
       "  </tbody>\n",
       "</table>\n",
       "</div>"
      ],
      "text/plain": [
       "          0         1         2         3          4  label\n",
       "0  9.788079  9.786986  5.798132  3.271540  11.044828      0\n",
       "1  8.596200  6.203757  7.541268  3.400610  11.646584      0\n",
       "2  8.941421  5.883195  7.981206  3.561140  11.073158      0\n",
       "3  9.308008  9.559373  8.342915  3.439551  11.326474      0\n",
       "4  8.945490  6.774744  7.835735  3.549780  11.791572      0"
      ]
     },
     "execution_count": 9,
     "metadata": {},
     "output_type": "execute_result"
    }
   ],
   "source": [
    "df.head()"
   ]
  },
  {
   "cell_type": "code",
   "execution_count": 10,
   "id": "21db3a85-ca99-48fc-8de9-b0aebd46ff40",
   "metadata": {
    "tags": []
   },
   "outputs": [
    {
     "name": "stdout",
     "output_type": "stream",
     "text": [
      "               0         1         2         3          4\n",
      "0       9.788079  9.786986  5.798132  3.271540  11.044828\n",
      "1       8.596200  6.203757  7.541268  3.400610  11.646584\n",
      "2       8.941421  5.883195  7.981206  3.561140  11.073158\n",
      "3       9.308008  9.559373  8.342915  3.439551  11.326474\n",
      "4       8.945490  6.774744  7.835735  3.549780  11.791572\n",
      "...          ...       ...       ...       ...        ...\n",
      "10309  10.122209  8.486302  7.224278  3.890846  10.530403\n",
      "10310  10.724847  9.762397  6.160814  4.039829  10.917808\n",
      "10311   8.817484  4.744309  8.077320  4.726676  10.842552\n",
      "10312  10.632682  9.166457  9.320440  1.789463  10.955692\n",
      "10313  11.066353  9.492675  5.093371  3.249228  12.489249\n",
      "\n",
      "[10314 rows x 5 columns]\n",
      "<class 'pandas.core.frame.DataFrame'>\n",
      "RangeIndex: 10314 entries, 0 to 10313\n",
      "Data columns (total 5 columns):\n",
      " #   Column  Non-Null Count  Dtype  \n",
      "---  ------  --------------  -----  \n",
      " 0   0       10314 non-null  float64\n",
      " 1   1       10314 non-null  float64\n",
      " 2   2       10314 non-null  float64\n",
      " 3   3       10314 non-null  float64\n",
      " 4   4       10314 non-null  float64\n",
      "dtypes: float64(5)\n",
      "memory usage: 403.0 KB\n",
      "None\n"
     ]
    }
   ],
   "source": [
    "features = df.iloc[:,0:5]\n",
    "# features = features.iloc[1:]\n",
    "\n",
    "print(features)\n",
    "print(features.info())"
   ]
  },
  {
   "cell_type": "code",
   "execution_count": 11,
   "id": "25a046d1-6762-4607-bc6f-bc151a3b059d",
   "metadata": {
    "tags": []
   },
   "outputs": [
    {
     "name": "stdout",
     "output_type": "stream",
     "text": [
      "0        0\n",
      "1        0\n",
      "2        0\n",
      "3        0\n",
      "4        0\n",
      "        ..\n",
      "10309    1\n",
      "10310    1\n",
      "10311    1\n",
      "10312    1\n",
      "10313    1\n",
      "Name: label, Length: 10314, dtype: int64\n"
     ]
    }
   ],
   "source": [
    "labels = df['label']\n",
    "print(labels)"
   ]
  },
  {
   "cell_type": "code",
   "execution_count": 12,
   "id": "7d4e8be3-b0a7-4d12-9eb4-c7e9336c1dc9",
   "metadata": {
    "tags": []
   },
   "outputs": [],
   "source": [
    "# from sklearn.preprocessing import MinMaxScaler\n",
    "\n",
    "# features = MinMaxScaler().fit_transform(features)"
   ]
  },
  {
   "cell_type": "code",
   "execution_count": 13,
   "id": "3fba958f-29aa-40bf-9e3e-b8c2ece20bd4",
   "metadata": {},
   "outputs": [
    {
     "data": {
      "image/png": "[encoded data removed]",
      "text/plain": [
       "<Figure size 1792.5x1454.83 with 1 Axes>"
      ]
     },
     "execution_count": 13,
     "metadata": {},
     "output_type": "execute_result"
    }
   ],
   "source": [
    "\n",
    "from qiskit.circuit.library import ZZFeatureMap\n",
    "\n",
    "num_features = features.shape[1]\n",
    "\n",
    "feature_map = ZZFeatureMap(feature_dimension=5, reps=1)\n",
    "feature_map.decompose().draw(output=\"mpl\", fold=20)"
   ]
  },
  {
   "cell_type": "code",
   "execution_count": 14,
   "id": "7b663335-d82a-4381-aafc-ed14e159c773",
   "metadata": {
    "tags": []
   },
   "outputs": [
    {
     "data": {
      "image/png": "[encoded data removed]",
      "text/plain": [
       "<Figure size 1123.61x451.5 with 1 Axes>"
      ]
     },
     "execution_count": 14,
     "metadata": {},
     "output_type": "execute_result"
    }
   ],
   "source": [
    "from qiskit.circuit.library import RealAmplitudes\n",
    "\n",
    "ansatz = RealAmplitudes(num_qubits=num_features, reps=3)\n",
    "ansatz.decompose().draw(output=\"mpl\", fold=20)"
   ]
  },
  {
   "cell_type": "code",
   "execution_count": 15,
   "id": "02a016f9-91b1-43c6-981f-229c18ed70d3",
   "metadata": {
    "tags": []
   },
   "outputs": [
    {
     "data": {
      "text/plain": [
       "<qiskit.circuit.instructionset.InstructionSet at 0x7fe6e2668f10>"
      ]
     },
     "execution_count": 15,
     "metadata": {},
     "output_type": "execute_result"
    }
   ],
   "source": [
    "qc = QuantumCircuit(num_features, num_features)\n",
    "qc.append(feature_map, range(num_features))\n",
    "qc.append(ansatz, range(num_features))\n",
    "qc.measure(range(num_features), range(num_features))"
   ]
  },
  {
   "cell_type": "code",
   "execution_count": 16,
   "id": "8f3beb16-87db-440e-9010-bf6358b3587d",
   "metadata": {
    "tags": []
   },
   "outputs": [],
   "source": [
    "from qiskit.algorithms.optimizers import COBYLA\n",
    "from qiskit_machine_learning.algorithms.classifiers import VQC\n",
    "from qiskit.algorithms.optimizers import COBYLA\n",
    "from qiskit.providers.aer import QasmSimulator\n",
    "from qiskit.primitives import Sampler\n",
    "from qiskit.utils import algorithm_globals"
   ]
  },
  {
   "cell_type": "code",
   "execution_count": 17,
   "id": "f9f495e5-cad9-48ca-b424-38d3fbebeae4",
   "metadata": {
    "tags": []
   },
   "outputs": [],
   "source": [
    "def callback_graph(weights, obj_func_eval):\n",
    "    clear_output(wait=True)\n",
    "    objective_func_vals.append(obj_func_eval)\n",
    "    plt.title(\"Objective function value against iteration\")\n",
    "    plt.xlabel(\"Iteration\")\n",
    "    plt.ylabel(\"Objective function value\")\n",
    "    plt.plot(range(len(objective_func_vals)), objective_func_vals)\n",
    "    plt.show()"
   ]
  },
  {
   "cell_type": "code",
   "execution_count": 18,
   "id": "4b3c153c-9201-48c6-9506-0e8de894677b",
   "metadata": {
    "tags": []
   },
   "outputs": [],
   "source": [
    "algorithm_globals.random_seed = 123\n",
    "train_features, test_features, train_labels, test_labels = train_test_split(\n",
    "    features, labels, train_size=0.8, random_state=algorithm_globals.random_seed\n",
    ")"
   ]
  },
  {
   "cell_type": "code",
   "execution_count": 19,
   "id": "9a3d3d5c-cc36-4fb6-9360-341a86d5b9d2",
   "metadata": {
    "tags": []
   },
   "outputs": [],
   "source": [
    "train_labels = np.array(train_labels)\n",
    "backend = QasmSimulator()\n",
    "optimizer = COBYLA(maxiter=5) #set iterations to higher value to get a better result, optimally 100 iterations\n",
    "sampler = Sampler()\n",
    "vqc = VQC(\n",
    "    sampler=sampler,\n",
    "    feature_map=feature_map,\n",
    "    ansatz=ansatz,\n",
    "    optimizer=optimizer,\n",
    "    callback=callback_graph,\n",
    "    quantum_instance=backend\n",
    ")\n",
    "#vqc = VQC(sampler=sampler, feature_map=feature_map, ansatz=ansatz, optimizer=optimizer, callback=callback_graph, quantum_instance=backend)\n"
   ]
  },
  {
   "cell_type": "code",
   "execution_count": 20,
   "id": "b01e67fc-7bc5-4f48-a839-7a8d15caf601",
   "metadata": {
    "tags": []
   },
   "outputs": [
    {
     "name": "stdout",
     "output_type": "stream",
     "text": [
      "<class 'pandas.core.frame.DataFrame'>\n",
      "<class 'numpy.ndarray'>\n"
     ]
    }
   ],
   "source": [
    "print(type(train_features))\n",
    "# print(type(train_labels))\n",
    "train_labels = np.array(train_labels)\n",
    "print(type(train_labels))"
   ]
  },
  {
   "cell_type": "code",
   "execution_count": 21,
   "id": "21eab7e6-c04f-4ac6-ad87-3baeea8216f5",
   "metadata": {
    "tags": []
   },
   "outputs": [
    {
     "name": "stdout",
     "output_type": "stream",
     "text": [
      "              0          1         2         3          4\n",
      "2595   9.779274   8.577076  8.203784  2.561999  11.957698\n",
      "2743   9.018605  10.087131  6.907789  2.461607  10.472368\n",
      "4986  10.687182  10.227848  3.688166  3.295508  11.609632\n",
      "9913   9.432204   9.451999  7.805192  3.595799  10.790932\n",
      "8370   9.847211   9.136163  8.632427  1.880299  11.189457\n",
      "...         ...        ...       ...       ...        ...\n",
      "9785   9.888645  10.777219  9.469686  2.405968  11.498693\n",
      "7763  10.215158   9.363747  6.332454  3.053884  11.119597\n",
      "5218  10.444159   6.570826  8.468312  3.689562   8.883799\n",
      "1346   9.727632  11.091735  9.361819  1.965167  11.682636\n",
      "3582   8.405899  10.360830  8.265728  2.061107  11.671000\n",
      "\n",
      "[8251 rows x 5 columns]\n",
      "[0 0 0 ... 0 0 0]\n"
     ]
    }
   ],
   "source": [
    "print(train_features)\n",
    "print(train_labels)"
   ]
  },
  {
   "cell_type": "code",
   "execution_count": 22,
   "id": "a7b5ee3e-4333-4854-bed6-d50969c7fb78",
   "metadata": {
    "tags": []
   },
   "outputs": [
    {
     "data": {
      "image/png": "[encoded data removed]",
      "text/plain": [
       "<Figure size 1200x600 with 1 Axes>"
      ]
     },
     "metadata": {},
     "output_type": "display_data"
    },
    {
     "name": "stdout",
     "output_type": "stream",
     "text": [
      "Training time: 512 seconds\n",
      "Quantum VQC on the training dataset: 0.54\n",
      "Quantum VQC on the test dataset:     0.52\n"
     ]
    }
   ],
   "source": [
    "from matplotlib import pyplot as plt\n",
    "from IPython.display import clear_output\n",
    "from qiskit.primitives import Sampler\n",
    "\n",
    "import time\n",
    "from qiskit_machine_learning.algorithms.classifiers import VQC\n",
    "\n",
    "objective_func_vals = []\n",
    "plt.rcParams[\"figure.figsize\"] = (12, 6)\n",
    "\n",
    "\n",
    "def callback_graph(weights, obj_func_eval):\n",
    "    clear_output(wait=True)\n",
    "    objective_func_vals.append(obj_func_eval)\n",
    "    plt.title(\"Objective function value against iteration\")\n",
    "    plt.xlabel(\"Iteration\")\n",
    "    plt.ylabel(\"Objective function value\")\n",
    "    plt.plot(range(len(objective_func_vals)), objective_func_vals)\n",
    "    plt.show()\n",
    "\n",
    "sampler = Sampler()\n",
    "\n",
    "vqc = VQC(\n",
    "    sampler=sampler,\n",
    "    feature_map=feature_map,\n",
    "    ansatz=ansatz,\n",
    "    optimizer=optimizer,\n",
    "    callback=callback_graph,\n",
    "    quantum_instance=Aer.get_backend('qasm_simulator')\n",
    ")\n",
    "\n",
    "# clear objective value history\n",
    "objective_func_vals = []\n",
    "\n",
    "start = time.time()\n",
    "vqc_model = vqc.fit(train_features, train_labels)\n",
    "elapsed = time.time() - start\n",
    "\n",
    "print(f\"Training time: {round(elapsed)} seconds\")\n",
    "\n",
    "train_score_q4 = vqc.score(train_features, train_labels)\n",
    "test_score_q4 = vqc.score(test_features, test_labels)\n",
    "\n",
    "print(f\"Quantum VQC on the training dataset: {train_score_q4:.2f}\")\n",
    "print(f\"Quantum VQC on the test dataset:     {test_score_q4:.2f}\")\n"
   ]
  },
  {
   "cell_type": "code",
   "execution_count": 24,
   "id": "cebe12f5-032b-4411-a8b1-d607354d7bf0",
   "metadata": {
    "tags": []
   },
   "outputs": [
    {
     "name": "stdout",
     "output_type": "stream",
     "text": [
      "Collecting sklearn\n",
      "  Downloading sklearn-0.0.post5.tar.gz (3.7 kB)\n",
      "  Preparing metadata (setup.py) ... \u001b[?25ldone\n",
      "\u001b[?25hBuilding wheels for collected packages: sklearn\n",
      "  Building wheel for sklearn (setup.py) ... \u001b[?25ldone\n",
      "\u001b[?25h  Created wheel for sklearn: filename=sklearn-0.0.post5-py3-none-any.whl size=2951 sha256=d63a15c7e8fec2d7ffba9d36930ee5b62bd5c347874c6ed16e4d0cf7e48dc1a7\n",
      "  Stored in directory: /home/jovyan/.cache/pip/wheels/5c/47/e1/386fa7740f1947ad87d16c68041c16ad8c23ca2bfd139a3fe5\n",
      "Successfully built sklearn\n",
      "Installing collected packages: sklearn\n",
      "Successfully installed sklearn-0.0.post5\n",
      "\n",
      "\u001b[1m[\u001b[0m\u001b[34;49mnotice\u001b[0m\u001b[1;39;49m]\u001b[0m\u001b[39;49m A new release of pip available: \u001b[0m\u001b[31;49m23.1.1\u001b[0m\u001b[39;49m -> \u001b[0m\u001b[32;49m23.1.2\u001b[0m\n",
      "\u001b[1m[\u001b[0m\u001b[34;49mnotice\u001b[0m\u001b[1;39;49m]\u001b[0m\u001b[39;49m To update, run: \u001b[0m\u001b[32;49mpip install --upgrade pip\u001b[0m\n"
     ]
    }
   ],
   "source": [
    "!pip install sklearn"
   ]
  },
  {
   "cell_type": "code",
   "execution_count": 25,
   "id": "419d1706-e9c7-4612-a05e-50f57082a8bd",
   "metadata": {
    "tags": []
   },
   "outputs": [],
   "source": [
    "from sklearn import model_selection, datasets\n",
    "import joblib\n",
    "import pickle"
   ]
  },
  {
   "cell_type": "code",
   "execution_count": 26,
   "id": "c0cdcc26-1bd5-42d6-8be2-901413a0ef89",
   "metadata": {
    "tags": []
   },
   "outputs": [
    {
     "data": {
      "text/plain": [
       "['vqc_model_NEW.joblib']"
      ]
     },
     "execution_count": 26,
     "metadata": {},
     "output_type": "execute_result"
    }
   ],
   "source": [
    " #a pickle file is created which contains the results from vqc.fit() \n",
    "filename = \"vqc_model_NEW.joblib\"\n",
    " joblib.dump(vqc_model, filename)"
   ]
  },
  {
   "cell_type": "code",
   "execution_count": 27,
   "id": "b9c6629e-40f9-4563-9e81-b5f1b6397663",
   "metadata": {
    "tags": []
   },
   "outputs": [],
   "source": [
    "loaded_model = joblib.load(filename)"
   ]
  },
  {
   "cell_type": "code",
   "execution_count": 28,
   "id": "8c4964f9-ac4f-469a-90ae-dee73591cdf4",
   "metadata": {
    "tags": []
   },
   "outputs": [],
   "source": [
    "train_score_q4_new = loaded_model.score(train_features, train_labels)\n",
    "test_score_q4_new = loaded_model.score(test_features, test_labels)"
   ]
  },
  {
   "cell_type": "code",
   "execution_count": 29,
   "id": "da8506ca-7d3e-44ca-8c0f-7102d9d452e1",
   "metadata": {
    "tags": []
   },
   "outputs": [
    {
     "name": "stdout",
     "output_type": "stream",
     "text": [
      "Quantum VQC on the training dataset: 0.54\n",
      "Quantum VQC on the test dataset:     0.52\n"
     ]
    }
   ],
   "source": [
    "print(f\"Quantum VQC on the training dataset: {train_score_q4_new:.2f}\")\n",
    "print(f\"Quantum VQC on the test dataset:     {test_score_q4_new:.2f}\")"
   ]
  },
  {
   "cell_type": "code",
   "execution_count": 31,
   "id": "4b7897a0-3a6d-4d02-ac56-74e19a71f2de",
   "metadata": {},
   "outputs": [
    {
     "name": "stdout",
     "output_type": "stream",
     "text": [
      "<class 'pandas.core.frame.DataFrame'>\n",
      "RangeIndex: 10314 entries, 0 to 10313\n",
      "Data columns (total 5 columns):\n",
      " #   Column   Non-Null Count  Dtype\n",
      "---  ------   --------------  -----\n",
      " 0   qubit_0  10314 non-null  int64\n",
      " 1   qubit_1  10314 non-null  int64\n",
      " 2   qubit_2  10314 non-null  int64\n",
      " 3   qubit_3  10314 non-null  int64\n",
      " 4   qubit_4  10314 non-null  int64\n",
      "dtypes: int64(5)\n",
      "memory usage: 403.0 KB\n"
     ]
    }
   ],
   "source": [
    "# Measure the circuit and save the results to a CSV file\n",
    "job = transpile(qc, backend)\n",
    "results = []\n",
    "for feature in features.values:\n",
    "    counts = backend.run(job, shots=1, memory=True, qobj_id=str(feature)).result().get_memory()\n",
    "    result = [int(bit) for bit in counts[0]]\n",
    "    results.append(result)\n",
    "    \n",
    "output_df = pd.DataFrame(results, columns=['qubit_0', 'qubit_1', 'qubit_2', 'qubit_3','qubit_4'])\n",
    "output_df.info()\n",
    "output_df.head()\n",
    "output_df.to_csv('vqc_results.csv', index=False) #this gives a dataset consisting of five features\n",
    "#later using excel we added the target attribute "
   ]
  },
  {
   "cell_type": "code",
   "execution_count": 33,
   "id": "ecbda9b6-16d6-496b-9fbe-babaf7f0b2d0",
   "metadata": {
    "tags": []
   },
   "outputs": [],
   "source": [
    "#prediction \n",
    "y_pred=vqc.predict(test_features)"
   ]
  },
  {
   "cell_type": "code",
   "execution_count": 34,
   "id": "ac516ba0-dae1-497a-91f4-7c7ff45caf0f",
   "metadata": {
    "tags": []
   },
   "outputs": [
    {
     "name": "stdout",
     "output_type": "stream",
     "text": [
      "[0 0 1 ... 1 0 0]\n"
     ]
    }
   ],
   "source": [
    "print(y_pred)"
   ]
  },
  {
   "cell_type": "markdown",
   "id": "29670e3b-feab-416d-a301-fcf0d93fed76",
   "metadata": {
    "tags": []
   },
   "source": [
    "output_df.info()\n",
    "output_df.head()\n",
    "output_df.shape\n",
    "print(output_df)"
   ]
  },
  {
   "cell_type": "code",
   "execution_count": 36,
   "id": "d185fe1f-0b66-4ed3-9c47-30813f0bae27",
   "metadata": {
    "tags": []
   },
   "outputs": [],
   "source": [
    "#Now using the final csv file we pass it to MLP to obtain the final results"
   ]
  }
 ],
 "metadata": {
  "kernelspec": {
   "display_name": "Python 3 (ipykernel)",
   "language": "python",
   "name": "python3"
  },
  "language_info": {
   "codemirror_mode": {
    "name": "ipython",
    "version": 3
   },
   "file_extension": ".py",
   "mimetype": "text/x-python",
   "name": "python",
   "nbconvert_exporter": "python",
   "pygments_lexer": "ipython3",
   "version": "3.10.8"
  },
  "widgets": {
   "application/vnd.jupyter.widget-state+json": {
    "state": {
     "008d5cb20529453b839931551ea544d2": {
      "model_module": "@jupyter-widgets/controls",
      "model_module_version": "2.0.0",
      "model_name": "GridBoxModel",
      "state": {
       "children": [
        "IPY_MODEL_94983a0749684949a3a31cffc54673ec"
       ],
       "layout": "IPY_MODEL_11e1fb8a62be4c01bb96c4f5ea0b650f"
      }
     },
     "0b6d9826cce24a438755b5ed029425e6": {
      "model_module": "@jupyter-widgets/controls",
      "model_module_version": "2.0.0",
      "model_name": "HTMLModel",
      "state": {
       "layout": "IPY_MODEL_1234416e06974910bf6ac9d09704d6ee",
       "style": "IPY_MODEL_9138091f104f448185ffbb845b4c92e8",
       "value": "<h5>Backend</h5>"
      }
     },
     "11e1fb8a62be4c01bb96c4f5ea0b650f": {
      "model_module": "@jupyter-widgets/base",
      "model_module_version": "2.0.0",
      "model_name": "LayoutModel",
      "state": {
       "grid_template_areas": "\n                                       \". . . . right \"\n                                        ",
       "grid_template_columns": "20% 20% 20% 20% 20%",
       "width": "100%"
      }
     },
     "1234416e06974910bf6ac9d09704d6ee": {
      "model_module": "@jupyter-widgets/base",
      "model_module_version": "2.0.0",
      "model_name": "LayoutModel",
      "state": {
       "width": "145px"
      }
     },
     "2351bb1ae432460d8e2905fc7afcf518": {
      "model_module": "@jupyter-widgets/controls",
      "model_module_version": "2.0.0",
      "model_name": "HTMLStyleModel",
      "state": {
       "description_width": "",
       "font_size": null,
       "text_color": null
      }
     },
     "2690c84788004aa3ac800d37a82d3be4": {
      "model_module": "@jupyter-widgets/base",
      "model_module_version": "2.0.0",
      "model_name": "LayoutModel",
      "state": {
       "width": "190px"
      }
     },
     "2f946f097eb24aa6843949eadb623d92": {
      "model_module": "@jupyter-widgets/base",
      "model_module_version": "2.0.0",
      "model_name": "LayoutModel",
      "state": {
       "width": "70px"
      }
     },
     "48f254832e644ffb88e806c5a971bb1e": {
      "model_module": "@jupyter-widgets/base",
      "model_module_version": "2.0.0",
      "model_name": "LayoutModel",
      "state": {
       "width": "95px"
      }
     },
     "67fdd53580584de9a509c579f501dbc3": {
      "model_module": "@jupyter-widgets/controls",
      "model_module_version": "2.0.0",
      "model_name": "ButtonStyleModel",
      "state": {
       "font_family": null,
       "font_size": null,
       "font_style": null,
       "font_variant": null,
       "font_weight": null,
       "text_color": null,
       "text_decoration": null
      }
     },
     "69be4e90cff94c8187afd923a9ba7ad1": {
      "model_module": "@jupyter-widgets/controls",
      "model_module_version": "2.0.0",
      "model_name": "HTMLModel",
      "state": {
       "layout": "IPY_MODEL_48f254832e644ffb88e806c5a971bb1e",
       "style": "IPY_MODEL_e1d9558ae69f42d8aa726ac358c5db41",
       "value": "<h5>Status</h5>"
      }
     },
     "75fe6b13d8f645fe902e2c219bdc8319": {
      "model_module": "@jupyter-widgets/controls",
      "model_module_version": "2.0.0",
      "model_name": "HTMLStyleModel",
      "state": {
       "description_width": "",
       "font_size": null,
       "text_color": null
      }
     },
     "79a27ffe4b014532a10766d2425a37f4": {
      "model_module": "@jupyter-widgets/base",
      "model_module_version": "2.0.0",
      "model_name": "LayoutModel",
      "state": {
       "margin": "0px 0px 10px 0px"
      }
     },
     "89f386385cc84ca6ae51a41460ae2459": {
      "model_module": "@jupyter-widgets/controls",
      "model_module_version": "2.0.0",
      "model_name": "HTMLModel",
      "state": {
       "layout": "IPY_MODEL_79a27ffe4b014532a10766d2425a37f4",
       "style": "IPY_MODEL_dc29347e9fbf409c8d61c006d8b265f0",
       "value": "<p style='font-family: IBM Plex Sans, Arial, Helvetica, sans-serif; font-size: 20px; font-weight: medium;'>Circuit Properties</p>"
      }
     },
     "9138091f104f448185ffbb845b4c92e8": {
      "model_module": "@jupyter-widgets/controls",
      "model_module_version": "2.0.0",
      "model_name": "HTMLStyleModel",
      "state": {
       "description_width": "",
       "font_size": null,
       "text_color": null
      }
     },
     "92d9c05f237645488e660019d69f6ce0": {
      "model_module": "@jupyter-widgets/base",
      "model_module_version": "2.0.0",
      "model_name": "LayoutModel",
      "state": {}
     },
     "94983a0749684949a3a31cffc54673ec": {
      "model_module": "@jupyter-widgets/controls",
      "model_module_version": "2.0.0",
      "model_name": "ButtonModel",
      "state": {
       "button_style": "primary",
       "description": "Clear",
       "layout": "IPY_MODEL_d089e7d36d3b477c871cbc4df482c61e",
       "style": "IPY_MODEL_67fdd53580584de9a509c579f501dbc3",
       "tooltip": null
      }
     },
     "a0f40115e77443f1a66eb4fa0fec0f18": {
      "model_module": "@jupyter-widgets/controls",
      "model_module_version": "2.0.0",
      "model_name": "HBoxModel",
      "state": {
       "children": [
        "IPY_MODEL_c188f16a9efc494e84fb434f50f2c699",
        "IPY_MODEL_0b6d9826cce24a438755b5ed029425e6",
        "IPY_MODEL_69be4e90cff94c8187afd923a9ba7ad1",
        "IPY_MODEL_cd2e45d1123c46f685162197a95b2338",
        "IPY_MODEL_a51d1a3f56df4d929a93fd99fbb79b32"
       ],
       "layout": "IPY_MODEL_b1714a20209d47b883e04dbf599f22ae"
      }
     },
     "a51d1a3f56df4d929a93fd99fbb79b32": {
      "model_module": "@jupyter-widgets/controls",
      "model_module_version": "2.0.0",
      "model_name": "HTMLModel",
      "state": {
       "layout": "IPY_MODEL_92d9c05f237645488e660019d69f6ce0",
       "style": "IPY_MODEL_75fe6b13d8f645fe902e2c219bdc8319",
       "value": "<h5>Message</h5>"
      }
     },
     "b1714a20209d47b883e04dbf599f22ae": {
      "model_module": "@jupyter-widgets/base",
      "model_module_version": "2.0.0",
      "model_name": "LayoutModel",
      "state": {
       "margin": "0px 0px 0px 37px",
       "width": "600px"
      }
     },
     "bc918a27d3254304813f6c81a534dfc4": {
      "model_module": "@jupyter-widgets/controls",
      "model_module_version": "2.0.0",
      "model_name": "HTMLStyleModel",
      "state": {
       "description_width": "",
       "font_size": null,
       "text_color": null
      }
     },
     "c188f16a9efc494e84fb434f50f2c699": {
      "model_module": "@jupyter-widgets/controls",
      "model_module_version": "2.0.0",
      "model_name": "HTMLModel",
      "state": {
       "layout": "IPY_MODEL_2690c84788004aa3ac800d37a82d3be4",
       "style": "IPY_MODEL_bc918a27d3254304813f6c81a534dfc4",
       "value": "<h5>Job ID</h5>"
      }
     },
     "cd2e45d1123c46f685162197a95b2338": {
      "model_module": "@jupyter-widgets/controls",
      "model_module_version": "2.0.0",
      "model_name": "HTMLModel",
      "state": {
       "layout": "IPY_MODEL_2f946f097eb24aa6843949eadb623d92",
       "style": "IPY_MODEL_2351bb1ae432460d8e2905fc7afcf518",
       "value": "<h5>Queue</h5>"
      }
     },
     "d089e7d36d3b477c871cbc4df482c61e": {
      "model_module": "@jupyter-widgets/base",
      "model_module_version": "2.0.0",
      "model_name": "LayoutModel",
      "state": {
       "grid_area": "right",
       "padding": "0px 0px 0px 0px",
       "width": "70px"
      }
     },
     "dc29347e9fbf409c8d61c006d8b265f0": {
      "model_module": "@jupyter-widgets/controls",
      "model_module_version": "2.0.0",
      "model_name": "HTMLStyleModel",
      "state": {
       "description_width": "",
       "font_size": null,
       "text_color": null
      }
     },
     "e1d9558ae69f42d8aa726ac358c5db41": {
      "model_module": "@jupyter-widgets/controls",
      "model_module_version": "2.0.0",
      "model_name": "HTMLStyleModel",
      "state": {
       "description_width": "",
       "font_size": null,
       "text_color": null
      }
     }
    },
    "version_major": 2,
    "version_minor": 0
   }
  }
 },
 "nbformat": 4,
 "nbformat_minor": 5
}
